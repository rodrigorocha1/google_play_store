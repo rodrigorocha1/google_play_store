{
 "cells": [
  {
   "cell_type": "code",
   "execution_count": 1,
   "metadata": {
    "collapsed": true
   },
   "outputs": [],
   "source": [
    "import pandas as pd"
   ]
  },
  {
   "cell_type": "code",
   "execution_count": 2,
   "outputs": [],
   "source": [
    "dados_completo = pd.read_csv('../data/raw/Google-Playstore.csv')"
   ],
   "metadata": {
    "collapsed": false
   }
  },
  {
   "cell_type": "code",
   "execution_count": 19,
   "outputs": [],
   "source": [
    "dados_completo.columns = dados_completo.columns.str.replace(' ', '_')\n",
    "dados_completo.columns = dados_completo.columns.str.upper()"
   ],
   "metadata": {
    "collapsed": false
   }
  },
  {
   "cell_type": "code",
   "execution_count": 20,
   "outputs": [
    {
     "data": {
      "text/plain": "Index(['APP_NAME', 'APP_ID', 'CATEGORY', 'RATING', 'RATING_COUNT', 'INSTALLS',\n       'MINIMUM_INSTALLS', 'MAXIMUM_INSTALLS', 'FREE', 'PRICE', 'CURRENCY',\n       'SIZE', 'MINIMUM_ANDROID', 'DEVELOPER_ID', 'DEVELOPER_WEBSITE',\n       'DEVELOPER_EMAIL', 'RELEASED', 'LAST_UPDATED', 'CONTENT_RATING',\n       'PRIVACY_POLICY', 'AD_SUPPORTED', 'IN_APP_PURCHASES', 'EDITORS_CHOICE',\n       'SCRAPED_TIME'],\n      dtype='object')"
     },
     "execution_count": 20,
     "metadata": {},
     "output_type": "execute_result"
    }
   ],
   "source": [
    "dados_completo.columns"
   ],
   "metadata": {
    "collapsed": false
   }
  },
  {
   "cell_type": "code",
   "execution_count": 27,
   "outputs": [
    {
     "data": {
      "text/plain": "                                                  APP_NAME  \\\n0                                                  Gakondo   \n1                                      Ampere Battery Info   \n2                                                   Vibook   \n3        Smart City Trichy Public Service Vehicles 17UC...   \n4                                                  GROW.me   \n...                                                    ...   \n2312939                                           大俠客—熱血歸來   \n2312940                                         ORU Online   \n2312941                                     Data Structure   \n2312942                                        Devi Suktam   \n2312943                       Biliyor Musun - Sonsuz Yarış   \n\n                                       APP_ID       CATEGORY  RATING  \\\n0                         com.ishakwe.gakondo      Adventure     0.0   \n1                  com.webserveis.batteryinfo          Tools     4.4   \n2                        com.doantiepvien.crm   Productivity     0.0   \n3                     cst.stJoseph.ug17ucs548  Communication     5.0   \n4                        com.horodyski.grower          Tools     0.0   \n...                                       ...            ...     ...   \n2312939                         com.rxsj.ssjj   Role Playing     4.3   \n2312940              com.threedream.oruonline      Education     0.0   \n2312941  datastructure.appoworld.datastucture      Education     0.0   \n2312942                     ishan.devi.suktam  Music & Audio     3.5   \n2312943             com.yyazilim.biliyormusun         Trivia     5.0   \n\n         RATING_COUNT  INSTALLS  MINIMUM_INSTALLS  MAXIMUM_INSTALLS  FREE  \\\n0                 0.0       10+              10.0                15  True   \n1                64.0    5,000+            5000.0              7662  True   \n2                 0.0       50+              50.0                58  True   \n3                 5.0       10+              10.0                19  True   \n4                 0.0      100+             100.0               478  True   \n...               ...       ...               ...               ...   ...   \n2312939       16775.0  100,000+          100000.0            337109  True   \n2312940           0.0      100+             100.0               430  True   \n2312941           0.0      100+             100.0               202  True   \n2312942           8.0    1,000+            1000.0              2635  True   \n2312943          12.0      100+             100.0               354  True   \n\n         PRICE  ...                  DEVELOPER_WEBSITE  \\\n0          0.0  ...        https://beniyizibyose.tk/#/   \n1          0.0  ...    https://webserveis.netlify.app/   \n2          0.0  ...                                NaN   \n3          0.0  ...   http://www.climatesmarttech.com/   \n4          0.0  ...        http://www.horodyski.com.pl   \n...        ...  ...                                ...   \n2312939    0.0  ...          http://www.4399sy.com.hk/   \n2312940    0.0  ...                http://www.oru.edu/   \n2312941    0.0  ...                                NaN   \n2312942    0.0  ...  https://a70f78905.app-ads-txt.com   \n2312943    0.0  ...                                NaN   \n\n                      DEVELOPER_EMAIL      RELEASED  LAST_UPDATED  \\\n0              jean21101999@gmail.com  Feb 26, 2020  Feb 26, 2020   \n1                webserveis@gmail.com  May 21, 2020  May 06, 2021   \n2                 vnacrewit@gmail.com   Aug 9, 2019  Aug 19, 2019   \n3         climatesmarttech2@gmail.com  Sep 10, 2018  Oct 13, 2018   \n4           rmilekhorodyski@gmail.com  Feb 21, 2020  Nov 12, 2018   \n...                               ...           ...           ...   \n2312939           ssjjcomhk@gmail.com           NaN  Jun 01, 2021   \n2312940     3DreamDeveloper@gmail.com  Jan 17, 2018  Feb 02, 2018   \n2312941  appoworld.official@gmail.com  Aug 19, 2018  Aug 19, 2018   \n2312942           ruchisono@gmail.com   Aug 1, 2016  May 05, 2021   \n2312943     yyazilimdevelop@gmail.com   Aug 9, 2019  Aug 19, 2019   \n\n        CONTENT_RATING                                     PRIVACY_POLICY  \\\n0             Everyone                 https://beniyizibyose.tk/projects/   \n1             Everyone  https://dev4phones.wordpress.com/licencia-de-uso/   \n2             Everyone  https://www.vietnamairlines.com/vn/en/terms-an...   \n3             Everyone                                                NaN   \n4             Everyone                        http://www.horodyski.com.pl   \n...                ...                                                ...   \n2312939           Teen             http://a.4399sy.com.hk/user/aggreement   \n2312940       Everyone    http://www.oru.edu/about-oru/privacy-policy.php   \n2312941       Everyone  https://appoworld.000webhostapp.com/datastruct...   \n2312942       Everyone  https://docs.google.com/document/d/1x-9reZuLRX...   \n2312943       Everyone  https://biliyor-musun-sons.flycricket.io/priva...   \n\n        AD_SUPPORTED IN_APP_PURCHASES EDITORS_CHOICE         SCRAPED_TIME  \n0              False            False          False  2021-06-15 20:19:35  \n1               True            False          False  2021-06-15 20:19:35  \n2              False            False          False  2021-06-15 20:19:35  \n3               True            False          False  2021-06-15 20:19:35  \n4              False            False          False  2021-06-15 20:19:35  \n...              ...              ...            ...                  ...  \n2312939        False            False          False  2021-06-16 12:59:18  \n2312940        False            False          False  2021-06-16 12:59:19  \n2312941        False            False          False  2021-06-16 12:59:19  \n2312942         True            False          False  2021-06-16 12:59:19  \n2312943         True            False          False  2021-06-16 12:59:19  \n\n[2312944 rows x 24 columns]",
      "text/html": "<div>\n<style scoped>\n    .dataframe tbody tr th:only-of-type {\n        vertical-align: middle;\n    }\n\n    .dataframe tbody tr th {\n        vertical-align: top;\n    }\n\n    .dataframe thead th {\n        text-align: right;\n    }\n</style>\n<table border=\"1\" class=\"dataframe\">\n  <thead>\n    <tr style=\"text-align: right;\">\n      <th></th>\n      <th>APP_NAME</th>\n      <th>APP_ID</th>\n      <th>CATEGORY</th>\n      <th>RATING</th>\n      <th>RATING_COUNT</th>\n      <th>INSTALLS</th>\n      <th>MINIMUM_INSTALLS</th>\n      <th>MAXIMUM_INSTALLS</th>\n      <th>FREE</th>\n      <th>PRICE</th>\n      <th>...</th>\n      <th>DEVELOPER_WEBSITE</th>\n      <th>DEVELOPER_EMAIL</th>\n      <th>RELEASED</th>\n      <th>LAST_UPDATED</th>\n      <th>CONTENT_RATING</th>\n      <th>PRIVACY_POLICY</th>\n      <th>AD_SUPPORTED</th>\n      <th>IN_APP_PURCHASES</th>\n      <th>EDITORS_CHOICE</th>\n      <th>SCRAPED_TIME</th>\n    </tr>\n  </thead>\n  <tbody>\n    <tr>\n      <th>0</th>\n      <td>Gakondo</td>\n      <td>com.ishakwe.gakondo</td>\n      <td>Adventure</td>\n      <td>0.0</td>\n      <td>0.0</td>\n      <td>10+</td>\n      <td>10.0</td>\n      <td>15</td>\n      <td>True</td>\n      <td>0.0</td>\n      <td>...</td>\n      <td>https://beniyizibyose.tk/#/</td>\n      <td>jean21101999@gmail.com</td>\n      <td>Feb 26, 2020</td>\n      <td>Feb 26, 2020</td>\n      <td>Everyone</td>\n      <td>https://beniyizibyose.tk/projects/</td>\n      <td>False</td>\n      <td>False</td>\n      <td>False</td>\n      <td>2021-06-15 20:19:35</td>\n    </tr>\n    <tr>\n      <th>1</th>\n      <td>Ampere Battery Info</td>\n      <td>com.webserveis.batteryinfo</td>\n      <td>Tools</td>\n      <td>4.4</td>\n      <td>64.0</td>\n      <td>5,000+</td>\n      <td>5000.0</td>\n      <td>7662</td>\n      <td>True</td>\n      <td>0.0</td>\n      <td>...</td>\n      <td>https://webserveis.netlify.app/</td>\n      <td>webserveis@gmail.com</td>\n      <td>May 21, 2020</td>\n      <td>May 06, 2021</td>\n      <td>Everyone</td>\n      <td>https://dev4phones.wordpress.com/licencia-de-uso/</td>\n      <td>True</td>\n      <td>False</td>\n      <td>False</td>\n      <td>2021-06-15 20:19:35</td>\n    </tr>\n    <tr>\n      <th>2</th>\n      <td>Vibook</td>\n      <td>com.doantiepvien.crm</td>\n      <td>Productivity</td>\n      <td>0.0</td>\n      <td>0.0</td>\n      <td>50+</td>\n      <td>50.0</td>\n      <td>58</td>\n      <td>True</td>\n      <td>0.0</td>\n      <td>...</td>\n      <td>NaN</td>\n      <td>vnacrewit@gmail.com</td>\n      <td>Aug 9, 2019</td>\n      <td>Aug 19, 2019</td>\n      <td>Everyone</td>\n      <td>https://www.vietnamairlines.com/vn/en/terms-an...</td>\n      <td>False</td>\n      <td>False</td>\n      <td>False</td>\n      <td>2021-06-15 20:19:35</td>\n    </tr>\n    <tr>\n      <th>3</th>\n      <td>Smart City Trichy Public Service Vehicles 17UC...</td>\n      <td>cst.stJoseph.ug17ucs548</td>\n      <td>Communication</td>\n      <td>5.0</td>\n      <td>5.0</td>\n      <td>10+</td>\n      <td>10.0</td>\n      <td>19</td>\n      <td>True</td>\n      <td>0.0</td>\n      <td>...</td>\n      <td>http://www.climatesmarttech.com/</td>\n      <td>climatesmarttech2@gmail.com</td>\n      <td>Sep 10, 2018</td>\n      <td>Oct 13, 2018</td>\n      <td>Everyone</td>\n      <td>NaN</td>\n      <td>True</td>\n      <td>False</td>\n      <td>False</td>\n      <td>2021-06-15 20:19:35</td>\n    </tr>\n    <tr>\n      <th>4</th>\n      <td>GROW.me</td>\n      <td>com.horodyski.grower</td>\n      <td>Tools</td>\n      <td>0.0</td>\n      <td>0.0</td>\n      <td>100+</td>\n      <td>100.0</td>\n      <td>478</td>\n      <td>True</td>\n      <td>0.0</td>\n      <td>...</td>\n      <td>http://www.horodyski.com.pl</td>\n      <td>rmilekhorodyski@gmail.com</td>\n      <td>Feb 21, 2020</td>\n      <td>Nov 12, 2018</td>\n      <td>Everyone</td>\n      <td>http://www.horodyski.com.pl</td>\n      <td>False</td>\n      <td>False</td>\n      <td>False</td>\n      <td>2021-06-15 20:19:35</td>\n    </tr>\n    <tr>\n      <th>...</th>\n      <td>...</td>\n      <td>...</td>\n      <td>...</td>\n      <td>...</td>\n      <td>...</td>\n      <td>...</td>\n      <td>...</td>\n      <td>...</td>\n      <td>...</td>\n      <td>...</td>\n      <td>...</td>\n      <td>...</td>\n      <td>...</td>\n      <td>...</td>\n      <td>...</td>\n      <td>...</td>\n      <td>...</td>\n      <td>...</td>\n      <td>...</td>\n      <td>...</td>\n      <td>...</td>\n    </tr>\n    <tr>\n      <th>2312939</th>\n      <td>大俠客—熱血歸來</td>\n      <td>com.rxsj.ssjj</td>\n      <td>Role Playing</td>\n      <td>4.3</td>\n      <td>16775.0</td>\n      <td>100,000+</td>\n      <td>100000.0</td>\n      <td>337109</td>\n      <td>True</td>\n      <td>0.0</td>\n      <td>...</td>\n      <td>http://www.4399sy.com.hk/</td>\n      <td>ssjjcomhk@gmail.com</td>\n      <td>NaN</td>\n      <td>Jun 01, 2021</td>\n      <td>Teen</td>\n      <td>http://a.4399sy.com.hk/user/aggreement</td>\n      <td>False</td>\n      <td>False</td>\n      <td>False</td>\n      <td>2021-06-16 12:59:18</td>\n    </tr>\n    <tr>\n      <th>2312940</th>\n      <td>ORU Online</td>\n      <td>com.threedream.oruonline</td>\n      <td>Education</td>\n      <td>0.0</td>\n      <td>0.0</td>\n      <td>100+</td>\n      <td>100.0</td>\n      <td>430</td>\n      <td>True</td>\n      <td>0.0</td>\n      <td>...</td>\n      <td>http://www.oru.edu/</td>\n      <td>3DreamDeveloper@gmail.com</td>\n      <td>Jan 17, 2018</td>\n      <td>Feb 02, 2018</td>\n      <td>Everyone</td>\n      <td>http://www.oru.edu/about-oru/privacy-policy.php</td>\n      <td>False</td>\n      <td>False</td>\n      <td>False</td>\n      <td>2021-06-16 12:59:19</td>\n    </tr>\n    <tr>\n      <th>2312941</th>\n      <td>Data Structure</td>\n      <td>datastructure.appoworld.datastucture</td>\n      <td>Education</td>\n      <td>0.0</td>\n      <td>0.0</td>\n      <td>100+</td>\n      <td>100.0</td>\n      <td>202</td>\n      <td>True</td>\n      <td>0.0</td>\n      <td>...</td>\n      <td>NaN</td>\n      <td>appoworld.official@gmail.com</td>\n      <td>Aug 19, 2018</td>\n      <td>Aug 19, 2018</td>\n      <td>Everyone</td>\n      <td>https://appoworld.000webhostapp.com/datastruct...</td>\n      <td>False</td>\n      <td>False</td>\n      <td>False</td>\n      <td>2021-06-16 12:59:19</td>\n    </tr>\n    <tr>\n      <th>2312942</th>\n      <td>Devi Suktam</td>\n      <td>ishan.devi.suktam</td>\n      <td>Music &amp; Audio</td>\n      <td>3.5</td>\n      <td>8.0</td>\n      <td>1,000+</td>\n      <td>1000.0</td>\n      <td>2635</td>\n      <td>True</td>\n      <td>0.0</td>\n      <td>...</td>\n      <td>https://a70f78905.app-ads-txt.com</td>\n      <td>ruchisono@gmail.com</td>\n      <td>Aug 1, 2016</td>\n      <td>May 05, 2021</td>\n      <td>Everyone</td>\n      <td>https://docs.google.com/document/d/1x-9reZuLRX...</td>\n      <td>True</td>\n      <td>False</td>\n      <td>False</td>\n      <td>2021-06-16 12:59:19</td>\n    </tr>\n    <tr>\n      <th>2312943</th>\n      <td>Biliyor Musun - Sonsuz Yarış</td>\n      <td>com.yyazilim.biliyormusun</td>\n      <td>Trivia</td>\n      <td>5.0</td>\n      <td>12.0</td>\n      <td>100+</td>\n      <td>100.0</td>\n      <td>354</td>\n      <td>True</td>\n      <td>0.0</td>\n      <td>...</td>\n      <td>NaN</td>\n      <td>yyazilimdevelop@gmail.com</td>\n      <td>Aug 9, 2019</td>\n      <td>Aug 19, 2019</td>\n      <td>Everyone</td>\n      <td>https://biliyor-musun-sons.flycricket.io/priva...</td>\n      <td>True</td>\n      <td>False</td>\n      <td>False</td>\n      <td>2021-06-16 12:59:19</td>\n    </tr>\n  </tbody>\n</table>\n<p>2312944 rows × 24 columns</p>\n</div>"
     },
     "execution_count": 27,
     "metadata": {},
     "output_type": "execute_result"
    }
   ],
   "source": [
    "dados_completo"
   ],
   "metadata": {
    "collapsed": false
   }
  },
  {
   "cell_type": "code",
   "execution_count": 21,
   "outputs": [
    {
     "name": "stdout",
     "output_type": "stream",
     "text": [
      "Existe valores duplicados\n"
     ]
    }
   ],
   "source": [
    "if any(dados_completo['APP_NAME'].duplicated()):\n",
    "    print('Existe valores duplicados')\n",
    "else:\n",
    "    print('Não existe valores duplicados')"
   ],
   "metadata": {
    "collapsed": false
   }
  },
  {
   "cell_type": "markdown",
   "source": [
    "<p>Pegando dados únicos<p>"
   ],
   "metadata": {
    "collapsed": false
   }
  },
  {
   "cell_type": "code",
   "execution_count": 25,
   "outputs": [],
   "source": [
    "df_tratado = dados_completo.drop_duplicates('APP_NAME', keep='first')\n",
    "df_tratado = df_tratado.reset_index(drop=True)"
   ],
   "metadata": {
    "collapsed": false
   }
  },
  {
   "cell_type": "code",
   "execution_count": 26,
   "outputs": [
    {
     "data": {
      "text/plain": "                                                  APP_NAME  \\\n0                                                  Gakondo   \n1                                      Ampere Battery Info   \n2                                                   Vibook   \n3        Smart City Trichy Public Service Vehicles 17UC...   \n4                                                  GROW.me   \n...                                                    ...   \n2177940                   STMIK Mercusuar - Aditya Rachman   \n2177941                        Lero TOEFL Recorder + Timer   \n2177942                                           大俠客—熱血歸來   \n2177943                                         ORU Online   \n2177944                       Biliyor Musun - Sonsuz Yarış   \n\n                               APP_ID       CATEGORY  RATING  RATING_COUNT  \\\n0                 com.ishakwe.gakondo      Adventure     0.0           0.0   \n1          com.webserveis.batteryinfo          Tools     4.4          64.0   \n2                com.doantiepvien.crm   Productivity     0.0           0.0   \n3             cst.stJoseph.ug17ucs548  Communication     5.0           5.0   \n4                com.horodyski.grower          Tools     0.0           0.0   \n...                               ...            ...     ...           ...   \n2177940  com.aplikasi.datapribadiadit      Education     0.0           0.0   \n2177941                com.toefltimer      Education     3.4          17.0   \n2177942                 com.rxsj.ssjj   Role Playing     4.3       16775.0   \n2177943      com.threedream.oruonline      Education     0.0           0.0   \n2177944     com.yyazilim.biliyormusun         Trivia     5.0          12.0   \n\n         INSTALLS  MINIMUM_INSTALLS  MAXIMUM_INSTALLS  FREE  PRICE  ...  \\\n0             10+              10.0                15  True    0.0  ...   \n1          5,000+            5000.0              7662  True    0.0  ...   \n2             50+              50.0                58  True    0.0  ...   \n3             10+              10.0                19  True    0.0  ...   \n4            100+             100.0               478  True    0.0  ...   \n...           ...               ...               ...   ...    ...  ...   \n2177940        5+               5.0                 7  True    0.0  ...   \n2177941    1,000+            1000.0              1980  True    0.0  ...   \n2177942  100,000+          100000.0            337109  True    0.0  ...   \n2177943      100+             100.0               430  True    0.0  ...   \n2177944      100+             100.0               354  True    0.0  ...   \n\n                        DEVELOPER_WEBSITE              DEVELOPER_EMAIL  \\\n0             https://beniyizibyose.tk/#/       jean21101999@gmail.com   \n1         https://webserveis.netlify.app/         webserveis@gmail.com   \n2                                     NaN          vnacrewit@gmail.com   \n3        http://www.climatesmarttech.com/  climatesmarttech2@gmail.com   \n4             http://www.horodyski.com.pl    rmilekhorodyski@gmail.com   \n...                                   ...                          ...   \n2177940                               NaN     rachmanaditya5@gmail.com   \n2177941    https://lerodoe.wordpress.com/           lero.doe@gmail.com   \n2177942         http://www.4399sy.com.hk/          ssjjcomhk@gmail.com   \n2177943               http://www.oru.edu/    3DreamDeveloper@gmail.com   \n2177944                               NaN    yyazilimdevelop@gmail.com   \n\n             RELEASED  LAST_UPDATED CONTENT_RATING  \\\n0        Feb 26, 2020  Feb 26, 2020       Everyone   \n1        May 21, 2020  May 06, 2021       Everyone   \n2         Aug 9, 2019  Aug 19, 2019       Everyone   \n3        Sep 10, 2018  Oct 13, 2018       Everyone   \n4        Feb 21, 2020  Nov 12, 2018       Everyone   \n...               ...           ...            ...   \n2177940  Jan 15, 2020  Jan 15, 2020       Everyone   \n2177941  May 22, 2018  Dec 14, 2018       Everyone   \n2177942           NaN  Jun 01, 2021           Teen   \n2177943  Jan 17, 2018  Feb 02, 2018       Everyone   \n2177944   Aug 9, 2019  Aug 19, 2019       Everyone   \n\n                                            PRIVACY_POLICY AD_SUPPORTED  \\\n0                       https://beniyizibyose.tk/projects/        False   \n1        https://dev4phones.wordpress.com/licencia-de-uso/         True   \n2        https://www.vietnamairlines.com/vn/en/terms-an...        False   \n3                                                      NaN         True   \n4                              http://www.horodyski.com.pl        False   \n...                                                    ...          ...   \n2177940                                                NaN        False   \n2177941  https://lerodoe.wordpress.com/app-privacy-poli...         True   \n2177942             http://a.4399sy.com.hk/user/aggreement        False   \n2177943    http://www.oru.edu/about-oru/privacy-policy.php        False   \n2177944  https://biliyor-musun-sons.flycricket.io/priva...         True   \n\n        IN_APP_PURCHASES EDITORS_CHOICE         SCRAPED_TIME  \n0                  False          False  2021-06-15 20:19:35  \n1                  False          False  2021-06-15 20:19:35  \n2                  False          False  2021-06-15 20:19:35  \n3                  False          False  2021-06-15 20:19:35  \n4                  False          False  2021-06-15 20:19:35  \n...                  ...            ...                  ...  \n2177940            False          False  2021-06-16 12:59:18  \n2177941            False          False  2021-06-16 12:59:18  \n2177942            False          False  2021-06-16 12:59:18  \n2177943            False          False  2021-06-16 12:59:19  \n2177944            False          False  2021-06-16 12:59:19  \n\n[2177945 rows x 24 columns]",
      "text/html": "<div>\n<style scoped>\n    .dataframe tbody tr th:only-of-type {\n        vertical-align: middle;\n    }\n\n    .dataframe tbody tr th {\n        vertical-align: top;\n    }\n\n    .dataframe thead th {\n        text-align: right;\n    }\n</style>\n<table border=\"1\" class=\"dataframe\">\n  <thead>\n    <tr style=\"text-align: right;\">\n      <th></th>\n      <th>APP_NAME</th>\n      <th>APP_ID</th>\n      <th>CATEGORY</th>\n      <th>RATING</th>\n      <th>RATING_COUNT</th>\n      <th>INSTALLS</th>\n      <th>MINIMUM_INSTALLS</th>\n      <th>MAXIMUM_INSTALLS</th>\n      <th>FREE</th>\n      <th>PRICE</th>\n      <th>...</th>\n      <th>DEVELOPER_WEBSITE</th>\n      <th>DEVELOPER_EMAIL</th>\n      <th>RELEASED</th>\n      <th>LAST_UPDATED</th>\n      <th>CONTENT_RATING</th>\n      <th>PRIVACY_POLICY</th>\n      <th>AD_SUPPORTED</th>\n      <th>IN_APP_PURCHASES</th>\n      <th>EDITORS_CHOICE</th>\n      <th>SCRAPED_TIME</th>\n    </tr>\n  </thead>\n  <tbody>\n    <tr>\n      <th>0</th>\n      <td>Gakondo</td>\n      <td>com.ishakwe.gakondo</td>\n      <td>Adventure</td>\n      <td>0.0</td>\n      <td>0.0</td>\n      <td>10+</td>\n      <td>10.0</td>\n      <td>15</td>\n      <td>True</td>\n      <td>0.0</td>\n      <td>...</td>\n      <td>https://beniyizibyose.tk/#/</td>\n      <td>jean21101999@gmail.com</td>\n      <td>Feb 26, 2020</td>\n      <td>Feb 26, 2020</td>\n      <td>Everyone</td>\n      <td>https://beniyizibyose.tk/projects/</td>\n      <td>False</td>\n      <td>False</td>\n      <td>False</td>\n      <td>2021-06-15 20:19:35</td>\n    </tr>\n    <tr>\n      <th>1</th>\n      <td>Ampere Battery Info</td>\n      <td>com.webserveis.batteryinfo</td>\n      <td>Tools</td>\n      <td>4.4</td>\n      <td>64.0</td>\n      <td>5,000+</td>\n      <td>5000.0</td>\n      <td>7662</td>\n      <td>True</td>\n      <td>0.0</td>\n      <td>...</td>\n      <td>https://webserveis.netlify.app/</td>\n      <td>webserveis@gmail.com</td>\n      <td>May 21, 2020</td>\n      <td>May 06, 2021</td>\n      <td>Everyone</td>\n      <td>https://dev4phones.wordpress.com/licencia-de-uso/</td>\n      <td>True</td>\n      <td>False</td>\n      <td>False</td>\n      <td>2021-06-15 20:19:35</td>\n    </tr>\n    <tr>\n      <th>2</th>\n      <td>Vibook</td>\n      <td>com.doantiepvien.crm</td>\n      <td>Productivity</td>\n      <td>0.0</td>\n      <td>0.0</td>\n      <td>50+</td>\n      <td>50.0</td>\n      <td>58</td>\n      <td>True</td>\n      <td>0.0</td>\n      <td>...</td>\n      <td>NaN</td>\n      <td>vnacrewit@gmail.com</td>\n      <td>Aug 9, 2019</td>\n      <td>Aug 19, 2019</td>\n      <td>Everyone</td>\n      <td>https://www.vietnamairlines.com/vn/en/terms-an...</td>\n      <td>False</td>\n      <td>False</td>\n      <td>False</td>\n      <td>2021-06-15 20:19:35</td>\n    </tr>\n    <tr>\n      <th>3</th>\n      <td>Smart City Trichy Public Service Vehicles 17UC...</td>\n      <td>cst.stJoseph.ug17ucs548</td>\n      <td>Communication</td>\n      <td>5.0</td>\n      <td>5.0</td>\n      <td>10+</td>\n      <td>10.0</td>\n      <td>19</td>\n      <td>True</td>\n      <td>0.0</td>\n      <td>...</td>\n      <td>http://www.climatesmarttech.com/</td>\n      <td>climatesmarttech2@gmail.com</td>\n      <td>Sep 10, 2018</td>\n      <td>Oct 13, 2018</td>\n      <td>Everyone</td>\n      <td>NaN</td>\n      <td>True</td>\n      <td>False</td>\n      <td>False</td>\n      <td>2021-06-15 20:19:35</td>\n    </tr>\n    <tr>\n      <th>4</th>\n      <td>GROW.me</td>\n      <td>com.horodyski.grower</td>\n      <td>Tools</td>\n      <td>0.0</td>\n      <td>0.0</td>\n      <td>100+</td>\n      <td>100.0</td>\n      <td>478</td>\n      <td>True</td>\n      <td>0.0</td>\n      <td>...</td>\n      <td>http://www.horodyski.com.pl</td>\n      <td>rmilekhorodyski@gmail.com</td>\n      <td>Feb 21, 2020</td>\n      <td>Nov 12, 2018</td>\n      <td>Everyone</td>\n      <td>http://www.horodyski.com.pl</td>\n      <td>False</td>\n      <td>False</td>\n      <td>False</td>\n      <td>2021-06-15 20:19:35</td>\n    </tr>\n    <tr>\n      <th>...</th>\n      <td>...</td>\n      <td>...</td>\n      <td>...</td>\n      <td>...</td>\n      <td>...</td>\n      <td>...</td>\n      <td>...</td>\n      <td>...</td>\n      <td>...</td>\n      <td>...</td>\n      <td>...</td>\n      <td>...</td>\n      <td>...</td>\n      <td>...</td>\n      <td>...</td>\n      <td>...</td>\n      <td>...</td>\n      <td>...</td>\n      <td>...</td>\n      <td>...</td>\n      <td>...</td>\n    </tr>\n    <tr>\n      <th>2177940</th>\n      <td>STMIK Mercusuar - Aditya Rachman</td>\n      <td>com.aplikasi.datapribadiadit</td>\n      <td>Education</td>\n      <td>0.0</td>\n      <td>0.0</td>\n      <td>5+</td>\n      <td>5.0</td>\n      <td>7</td>\n      <td>True</td>\n      <td>0.0</td>\n      <td>...</td>\n      <td>NaN</td>\n      <td>rachmanaditya5@gmail.com</td>\n      <td>Jan 15, 2020</td>\n      <td>Jan 15, 2020</td>\n      <td>Everyone</td>\n      <td>NaN</td>\n      <td>False</td>\n      <td>False</td>\n      <td>False</td>\n      <td>2021-06-16 12:59:18</td>\n    </tr>\n    <tr>\n      <th>2177941</th>\n      <td>Lero TOEFL Recorder + Timer</td>\n      <td>com.toefltimer</td>\n      <td>Education</td>\n      <td>3.4</td>\n      <td>17.0</td>\n      <td>1,000+</td>\n      <td>1000.0</td>\n      <td>1980</td>\n      <td>True</td>\n      <td>0.0</td>\n      <td>...</td>\n      <td>https://lerodoe.wordpress.com/</td>\n      <td>lero.doe@gmail.com</td>\n      <td>May 22, 2018</td>\n      <td>Dec 14, 2018</td>\n      <td>Everyone</td>\n      <td>https://lerodoe.wordpress.com/app-privacy-poli...</td>\n      <td>True</td>\n      <td>False</td>\n      <td>False</td>\n      <td>2021-06-16 12:59:18</td>\n    </tr>\n    <tr>\n      <th>2177942</th>\n      <td>大俠客—熱血歸來</td>\n      <td>com.rxsj.ssjj</td>\n      <td>Role Playing</td>\n      <td>4.3</td>\n      <td>16775.0</td>\n      <td>100,000+</td>\n      <td>100000.0</td>\n      <td>337109</td>\n      <td>True</td>\n      <td>0.0</td>\n      <td>...</td>\n      <td>http://www.4399sy.com.hk/</td>\n      <td>ssjjcomhk@gmail.com</td>\n      <td>NaN</td>\n      <td>Jun 01, 2021</td>\n      <td>Teen</td>\n      <td>http://a.4399sy.com.hk/user/aggreement</td>\n      <td>False</td>\n      <td>False</td>\n      <td>False</td>\n      <td>2021-06-16 12:59:18</td>\n    </tr>\n    <tr>\n      <th>2177943</th>\n      <td>ORU Online</td>\n      <td>com.threedream.oruonline</td>\n      <td>Education</td>\n      <td>0.0</td>\n      <td>0.0</td>\n      <td>100+</td>\n      <td>100.0</td>\n      <td>430</td>\n      <td>True</td>\n      <td>0.0</td>\n      <td>...</td>\n      <td>http://www.oru.edu/</td>\n      <td>3DreamDeveloper@gmail.com</td>\n      <td>Jan 17, 2018</td>\n      <td>Feb 02, 2018</td>\n      <td>Everyone</td>\n      <td>http://www.oru.edu/about-oru/privacy-policy.php</td>\n      <td>False</td>\n      <td>False</td>\n      <td>False</td>\n      <td>2021-06-16 12:59:19</td>\n    </tr>\n    <tr>\n      <th>2177944</th>\n      <td>Biliyor Musun - Sonsuz Yarış</td>\n      <td>com.yyazilim.biliyormusun</td>\n      <td>Trivia</td>\n      <td>5.0</td>\n      <td>12.0</td>\n      <td>100+</td>\n      <td>100.0</td>\n      <td>354</td>\n      <td>True</td>\n      <td>0.0</td>\n      <td>...</td>\n      <td>NaN</td>\n      <td>yyazilimdevelop@gmail.com</td>\n      <td>Aug 9, 2019</td>\n      <td>Aug 19, 2019</td>\n      <td>Everyone</td>\n      <td>https://biliyor-musun-sons.flycricket.io/priva...</td>\n      <td>True</td>\n      <td>False</td>\n      <td>False</td>\n      <td>2021-06-16 12:59:19</td>\n    </tr>\n  </tbody>\n</table>\n<p>2177945 rows × 24 columns</p>\n</div>"
     },
     "execution_count": 26,
     "metadata": {},
     "output_type": "execute_result"
    }
   ],
   "source": [
    "df_tratado"
   ],
   "metadata": {
    "collapsed": false
   }
  }
 ],
 "metadata": {
  "kernelspec": {
   "display_name": "Python 3",
   "language": "python",
   "name": "python3"
  },
  "language_info": {
   "codemirror_mode": {
    "name": "ipython",
    "version": 2
   },
   "file_extension": ".py",
   "mimetype": "text/x-python",
   "name": "python",
   "nbconvert_exporter": "python",
   "pygments_lexer": "ipython2",
   "version": "2.7.6"
  }
 },
 "nbformat": 4,
 "nbformat_minor": 0
}
