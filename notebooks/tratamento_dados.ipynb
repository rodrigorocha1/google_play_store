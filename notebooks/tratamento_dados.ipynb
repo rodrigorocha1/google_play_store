{
 "cells": [
  {
   "cell_type": "code",
   "execution_count": 1,
   "metadata": {
    "collapsed": true
   },
   "outputs": [],
   "source": [
    "import pandas as pd"
   ]
  },
  {
   "cell_type": "code",
   "execution_count": 2,
   "outputs": [],
   "source": [
    "dados_completo = pd.read_csv('../data/raw/Google-Playstore.csv')"
   ],
   "metadata": {
    "collapsed": false
   }
  },
  {
   "cell_type": "code",
   "execution_count": 19,
   "outputs": [],
   "source": [
    "dados_completo.columns = dados_completo.columns.str.replace(' ', '_')\n",
    "dados_completo.columns = dados_completo.columns.str.upper()"
   ],
   "metadata": {
    "collapsed": false
   }
  },
  {
   "cell_type": "code",
   "execution_count": 20,
   "outputs": [
    {
     "data": {
      "text/plain": "Index(['APP_NAME', 'APP_ID', 'CATEGORY', 'RATING', 'RATING_COUNT', 'INSTALLS',\n       'MINIMUM_INSTALLS', 'MAXIMUM_INSTALLS', 'FREE', 'PRICE', 'CURRENCY',\n       'SIZE', 'MINIMUM_ANDROID', 'DEVELOPER_ID', 'DEVELOPER_WEBSITE',\n       'DEVELOPER_EMAIL', 'RELEASED', 'LAST_UPDATED', 'CONTENT_RATING',\n       'PRIVACY_POLICY', 'AD_SUPPORTED', 'IN_APP_PURCHASES', 'EDITORS_CHOICE',\n       'SCRAPED_TIME'],\n      dtype='object')"
     },
     "execution_count": 20,
     "metadata": {},
     "output_type": "execute_result"
    }
   ],
   "source": [
    "dados_completo.columns"
   ],
   "metadata": {
    "collapsed": false
   }
  },
  {
   "cell_type": "code",
   "execution_count": 21,
   "outputs": [
    {
     "name": "stdout",
     "output_type": "stream",
     "text": [
      "Existe valores duplicados\n"
     ]
    }
   ],
   "source": [
    "if any(dados_completo['APP_NAME'].duplicated()):\n",
    "    print('Existe valores duplicados')\n",
    "else:\n",
    "    print('Não existe valores duplicados')"
   ],
   "metadata": {
    "collapsed": false
   }
  }
 ],
 "metadata": {
  "kernelspec": {
   "display_name": "Python 3",
   "language": "python",
   "name": "python3"
  },
  "language_info": {
   "codemirror_mode": {
    "name": "ipython",
    "version": 2
   },
   "file_extension": ".py",
   "mimetype": "text/x-python",
   "name": "python",
   "nbconvert_exporter": "python",
   "pygments_lexer": "ipython2",
   "version": "2.7.6"
  }
 },
 "nbformat": 4,
 "nbformat_minor": 0
}
