{
 "cells": [
  {
   "cell_type": "code",
   "execution_count": 60,
   "metadata": {
    "collapsed": true
   },
   "outputs": [],
   "source": [
    "import pandas as pd\n",
    "import plotly.express as px"
   ]
  },
  {
   "cell_type": "code",
   "execution_count": 2,
   "outputs": [],
   "source": [
    "dados_completo = pd.read_csv('../data/raw/Google-Playstore.csv')"
   ],
   "metadata": {
    "collapsed": false
   }
  },
  {
   "cell_type": "code",
   "execution_count": 19,
   "outputs": [],
   "source": [
    "dados_completo.columns = dados_completo.columns.str.replace(' ', '_')\n",
    "dados_completo.columns = dados_completo.columns.str.upper()"
   ],
   "metadata": {
    "collapsed": false
   }
  },
  {
   "cell_type": "code",
   "execution_count": 20,
   "outputs": [
    {
     "data": {
      "text/plain": "Index(['APP_NAME', 'APP_ID', 'CATEGORY', 'RATING', 'RATING_COUNT', 'INSTALLS',\n       'MINIMUM_INSTALLS', 'MAXIMUM_INSTALLS', 'FREE', 'PRICE', 'CURRENCY',\n       'SIZE', 'MINIMUM_ANDROID', 'DEVELOPER_ID', 'DEVELOPER_WEBSITE',\n       'DEVELOPER_EMAIL', 'RELEASED', 'LAST_UPDATED', 'CONTENT_RATING',\n       'PRIVACY_POLICY', 'AD_SUPPORTED', 'IN_APP_PURCHASES', 'EDITORS_CHOICE',\n       'SCRAPED_TIME'],\n      dtype='object')"
     },
     "execution_count": 20,
     "metadata": {},
     "output_type": "execute_result"
    }
   ],
   "source": [
    "dados_completo.columns"
   ],
   "metadata": {
    "collapsed": false
   }
  },
  {
   "cell_type": "code",
   "execution_count": 27,
   "outputs": [
    {
     "data": {
      "text/plain": "                                                  APP_NAME  \\\n0                                                  Gakondo   \n1                                      Ampere Battery Info   \n2                                                   Vibook   \n3        Smart City Trichy Public Service Vehicles 17UC...   \n4                                                  GROW.me   \n...                                                    ...   \n2312939                                           大俠客—熱血歸來   \n2312940                                         ORU Online   \n2312941                                     Data Structure   \n2312942                                        Devi Suktam   \n2312943                       Biliyor Musun - Sonsuz Yarış   \n\n                                       APP_ID       CATEGORY  RATING  \\\n0                         com.ishakwe.gakondo      Adventure     0.0   \n1                  com.webserveis.batteryinfo          Tools     4.4   \n2                        com.doantiepvien.crm   Productivity     0.0   \n3                     cst.stJoseph.ug17ucs548  Communication     5.0   \n4                        com.horodyski.grower          Tools     0.0   \n...                                       ...            ...     ...   \n2312939                         com.rxsj.ssjj   Role Playing     4.3   \n2312940              com.threedream.oruonline      Education     0.0   \n2312941  datastructure.appoworld.datastucture      Education     0.0   \n2312942                     ishan.devi.suktam  Music & Audio     3.5   \n2312943             com.yyazilim.biliyormusun         Trivia     5.0   \n\n         RATING_COUNT  INSTALLS  MINIMUM_INSTALLS  MAXIMUM_INSTALLS  FREE  \\\n0                 0.0       10+              10.0                15  True   \n1                64.0    5,000+            5000.0              7662  True   \n2                 0.0       50+              50.0                58  True   \n3                 5.0       10+              10.0                19  True   \n4                 0.0      100+             100.0               478  True   \n...               ...       ...               ...               ...   ...   \n2312939       16775.0  100,000+          100000.0            337109  True   \n2312940           0.0      100+             100.0               430  True   \n2312941           0.0      100+             100.0               202  True   \n2312942           8.0    1,000+            1000.0              2635  True   \n2312943          12.0      100+             100.0               354  True   \n\n         PRICE  ...                  DEVELOPER_WEBSITE  \\\n0          0.0  ...        https://beniyizibyose.tk/#/   \n1          0.0  ...    https://webserveis.netlify.app/   \n2          0.0  ...                                NaN   \n3          0.0  ...   http://www.climatesmarttech.com/   \n4          0.0  ...        http://www.horodyski.com.pl   \n...        ...  ...                                ...   \n2312939    0.0  ...          http://www.4399sy.com.hk/   \n2312940    0.0  ...                http://www.oru.edu/   \n2312941    0.0  ...                                NaN   \n2312942    0.0  ...  https://a70f78905.app-ads-txt.com   \n2312943    0.0  ...                                NaN   \n\n                      DEVELOPER_EMAIL      RELEASED  LAST_UPDATED  \\\n0              jean21101999@gmail.com  Feb 26, 2020  Feb 26, 2020   \n1                webserveis@gmail.com  May 21, 2020  May 06, 2021   \n2                 vnacrewit@gmail.com   Aug 9, 2019  Aug 19, 2019   \n3         climatesmarttech2@gmail.com  Sep 10, 2018  Oct 13, 2018   \n4           rmilekhorodyski@gmail.com  Feb 21, 2020  Nov 12, 2018   \n...                               ...           ...           ...   \n2312939           ssjjcomhk@gmail.com           NaN  Jun 01, 2021   \n2312940     3DreamDeveloper@gmail.com  Jan 17, 2018  Feb 02, 2018   \n2312941  appoworld.official@gmail.com  Aug 19, 2018  Aug 19, 2018   \n2312942           ruchisono@gmail.com   Aug 1, 2016  May 05, 2021   \n2312943     yyazilimdevelop@gmail.com   Aug 9, 2019  Aug 19, 2019   \n\n        CONTENT_RATING                                     PRIVACY_POLICY  \\\n0             Everyone                 https://beniyizibyose.tk/projects/   \n1             Everyone  https://dev4phones.wordpress.com/licencia-de-uso/   \n2             Everyone  https://www.vietnamairlines.com/vn/en/terms-an...   \n3             Everyone                                                NaN   \n4             Everyone                        http://www.horodyski.com.pl   \n...                ...                                                ...   \n2312939           Teen             http://a.4399sy.com.hk/user/aggreement   \n2312940       Everyone    http://www.oru.edu/about-oru/privacy-policy.php   \n2312941       Everyone  https://appoworld.000webhostapp.com/datastruct...   \n2312942       Everyone  https://docs.google.com/document/d/1x-9reZuLRX...   \n2312943       Everyone  https://biliyor-musun-sons.flycricket.io/priva...   \n\n        AD_SUPPORTED IN_APP_PURCHASES EDITORS_CHOICE         SCRAPED_TIME  \n0              False            False          False  2021-06-15 20:19:35  \n1               True            False          False  2021-06-15 20:19:35  \n2              False            False          False  2021-06-15 20:19:35  \n3               True            False          False  2021-06-15 20:19:35  \n4              False            False          False  2021-06-15 20:19:35  \n...              ...              ...            ...                  ...  \n2312939        False            False          False  2021-06-16 12:59:18  \n2312940        False            False          False  2021-06-16 12:59:19  \n2312941        False            False          False  2021-06-16 12:59:19  \n2312942         True            False          False  2021-06-16 12:59:19  \n2312943         True            False          False  2021-06-16 12:59:19  \n\n[2312944 rows x 24 columns]",
      "text/html": "<div>\n<style scoped>\n    .dataframe tbody tr th:only-of-type {\n        vertical-align: middle;\n    }\n\n    .dataframe tbody tr th {\n        vertical-align: top;\n    }\n\n    .dataframe thead th {\n        text-align: right;\n    }\n</style>\n<table border=\"1\" class=\"dataframe\">\n  <thead>\n    <tr style=\"text-align: right;\">\n      <th></th>\n      <th>APP_NAME</th>\n      <th>APP_ID</th>\n      <th>CATEGORY</th>\n      <th>RATING</th>\n      <th>RATING_COUNT</th>\n      <th>INSTALLS</th>\n      <th>MINIMUM_INSTALLS</th>\n      <th>MAXIMUM_INSTALLS</th>\n      <th>FREE</th>\n      <th>PRICE</th>\n      <th>...</th>\n      <th>DEVELOPER_WEBSITE</th>\n      <th>DEVELOPER_EMAIL</th>\n      <th>RELEASED</th>\n      <th>LAST_UPDATED</th>\n      <th>CONTENT_RATING</th>\n      <th>PRIVACY_POLICY</th>\n      <th>AD_SUPPORTED</th>\n      <th>IN_APP_PURCHASES</th>\n      <th>EDITORS_CHOICE</th>\n      <th>SCRAPED_TIME</th>\n    </tr>\n  </thead>\n  <tbody>\n    <tr>\n      <th>0</th>\n      <td>Gakondo</td>\n      <td>com.ishakwe.gakondo</td>\n      <td>Adventure</td>\n      <td>0.0</td>\n      <td>0.0</td>\n      <td>10+</td>\n      <td>10.0</td>\n      <td>15</td>\n      <td>True</td>\n      <td>0.0</td>\n      <td>...</td>\n      <td>https://beniyizibyose.tk/#/</td>\n      <td>jean21101999@gmail.com</td>\n      <td>Feb 26, 2020</td>\n      <td>Feb 26, 2020</td>\n      <td>Everyone</td>\n      <td>https://beniyizibyose.tk/projects/</td>\n      <td>False</td>\n      <td>False</td>\n      <td>False</td>\n      <td>2021-06-15 20:19:35</td>\n    </tr>\n    <tr>\n      <th>1</th>\n      <td>Ampere Battery Info</td>\n      <td>com.webserveis.batteryinfo</td>\n      <td>Tools</td>\n      <td>4.4</td>\n      <td>64.0</td>\n      <td>5,000+</td>\n      <td>5000.0</td>\n      <td>7662</td>\n      <td>True</td>\n      <td>0.0</td>\n      <td>...</td>\n      <td>https://webserveis.netlify.app/</td>\n      <td>webserveis@gmail.com</td>\n      <td>May 21, 2020</td>\n      <td>May 06, 2021</td>\n      <td>Everyone</td>\n      <td>https://dev4phones.wordpress.com/licencia-de-uso/</td>\n      <td>True</td>\n      <td>False</td>\n      <td>False</td>\n      <td>2021-06-15 20:19:35</td>\n    </tr>\n    <tr>\n      <th>2</th>\n      <td>Vibook</td>\n      <td>com.doantiepvien.crm</td>\n      <td>Productivity</td>\n      <td>0.0</td>\n      <td>0.0</td>\n      <td>50+</td>\n      <td>50.0</td>\n      <td>58</td>\n      <td>True</td>\n      <td>0.0</td>\n      <td>...</td>\n      <td>NaN</td>\n      <td>vnacrewit@gmail.com</td>\n      <td>Aug 9, 2019</td>\n      <td>Aug 19, 2019</td>\n      <td>Everyone</td>\n      <td>https://www.vietnamairlines.com/vn/en/terms-an...</td>\n      <td>False</td>\n      <td>False</td>\n      <td>False</td>\n      <td>2021-06-15 20:19:35</td>\n    </tr>\n    <tr>\n      <th>3</th>\n      <td>Smart City Trichy Public Service Vehicles 17UC...</td>\n      <td>cst.stJoseph.ug17ucs548</td>\n      <td>Communication</td>\n      <td>5.0</td>\n      <td>5.0</td>\n      <td>10+</td>\n      <td>10.0</td>\n      <td>19</td>\n      <td>True</td>\n      <td>0.0</td>\n      <td>...</td>\n      <td>http://www.climatesmarttech.com/</td>\n      <td>climatesmarttech2@gmail.com</td>\n      <td>Sep 10, 2018</td>\n      <td>Oct 13, 2018</td>\n      <td>Everyone</td>\n      <td>NaN</td>\n      <td>True</td>\n      <td>False</td>\n      <td>False</td>\n      <td>2021-06-15 20:19:35</td>\n    </tr>\n    <tr>\n      <th>4</th>\n      <td>GROW.me</td>\n      <td>com.horodyski.grower</td>\n      <td>Tools</td>\n      <td>0.0</td>\n      <td>0.0</td>\n      <td>100+</td>\n      <td>100.0</td>\n      <td>478</td>\n      <td>True</td>\n      <td>0.0</td>\n      <td>...</td>\n      <td>http://www.horodyski.com.pl</td>\n      <td>rmilekhorodyski@gmail.com</td>\n      <td>Feb 21, 2020</td>\n      <td>Nov 12, 2018</td>\n      <td>Everyone</td>\n      <td>http://www.horodyski.com.pl</td>\n      <td>False</td>\n      <td>False</td>\n      <td>False</td>\n      <td>2021-06-15 20:19:35</td>\n    </tr>\n    <tr>\n      <th>...</th>\n      <td>...</td>\n      <td>...</td>\n      <td>...</td>\n      <td>...</td>\n      <td>...</td>\n      <td>...</td>\n      <td>...</td>\n      <td>...</td>\n      <td>...</td>\n      <td>...</td>\n      <td>...</td>\n      <td>...</td>\n      <td>...</td>\n      <td>...</td>\n      <td>...</td>\n      <td>...</td>\n      <td>...</td>\n      <td>...</td>\n      <td>...</td>\n      <td>...</td>\n      <td>...</td>\n    </tr>\n    <tr>\n      <th>2312939</th>\n      <td>大俠客—熱血歸來</td>\n      <td>com.rxsj.ssjj</td>\n      <td>Role Playing</td>\n      <td>4.3</td>\n      <td>16775.0</td>\n      <td>100,000+</td>\n      <td>100000.0</td>\n      <td>337109</td>\n      <td>True</td>\n      <td>0.0</td>\n      <td>...</td>\n      <td>http://www.4399sy.com.hk/</td>\n      <td>ssjjcomhk@gmail.com</td>\n      <td>NaN</td>\n      <td>Jun 01, 2021</td>\n      <td>Teen</td>\n      <td>http://a.4399sy.com.hk/user/aggreement</td>\n      <td>False</td>\n      <td>False</td>\n      <td>False</td>\n      <td>2021-06-16 12:59:18</td>\n    </tr>\n    <tr>\n      <th>2312940</th>\n      <td>ORU Online</td>\n      <td>com.threedream.oruonline</td>\n      <td>Education</td>\n      <td>0.0</td>\n      <td>0.0</td>\n      <td>100+</td>\n      <td>100.0</td>\n      <td>430</td>\n      <td>True</td>\n      <td>0.0</td>\n      <td>...</td>\n      <td>http://www.oru.edu/</td>\n      <td>3DreamDeveloper@gmail.com</td>\n      <td>Jan 17, 2018</td>\n      <td>Feb 02, 2018</td>\n      <td>Everyone</td>\n      <td>http://www.oru.edu/about-oru/privacy-policy.php</td>\n      <td>False</td>\n      <td>False</td>\n      <td>False</td>\n      <td>2021-06-16 12:59:19</td>\n    </tr>\n    <tr>\n      <th>2312941</th>\n      <td>Data Structure</td>\n      <td>datastructure.appoworld.datastucture</td>\n      <td>Education</td>\n      <td>0.0</td>\n      <td>0.0</td>\n      <td>100+</td>\n      <td>100.0</td>\n      <td>202</td>\n      <td>True</td>\n      <td>0.0</td>\n      <td>...</td>\n      <td>NaN</td>\n      <td>appoworld.official@gmail.com</td>\n      <td>Aug 19, 2018</td>\n      <td>Aug 19, 2018</td>\n      <td>Everyone</td>\n      <td>https://appoworld.000webhostapp.com/datastruct...</td>\n      <td>False</td>\n      <td>False</td>\n      <td>False</td>\n      <td>2021-06-16 12:59:19</td>\n    </tr>\n    <tr>\n      <th>2312942</th>\n      <td>Devi Suktam</td>\n      <td>ishan.devi.suktam</td>\n      <td>Music &amp; Audio</td>\n      <td>3.5</td>\n      <td>8.0</td>\n      <td>1,000+</td>\n      <td>1000.0</td>\n      <td>2635</td>\n      <td>True</td>\n      <td>0.0</td>\n      <td>...</td>\n      <td>https://a70f78905.app-ads-txt.com</td>\n      <td>ruchisono@gmail.com</td>\n      <td>Aug 1, 2016</td>\n      <td>May 05, 2021</td>\n      <td>Everyone</td>\n      <td>https://docs.google.com/document/d/1x-9reZuLRX...</td>\n      <td>True</td>\n      <td>False</td>\n      <td>False</td>\n      <td>2021-06-16 12:59:19</td>\n    </tr>\n    <tr>\n      <th>2312943</th>\n      <td>Biliyor Musun - Sonsuz Yarış</td>\n      <td>com.yyazilim.biliyormusun</td>\n      <td>Trivia</td>\n      <td>5.0</td>\n      <td>12.0</td>\n      <td>100+</td>\n      <td>100.0</td>\n      <td>354</td>\n      <td>True</td>\n      <td>0.0</td>\n      <td>...</td>\n      <td>NaN</td>\n      <td>yyazilimdevelop@gmail.com</td>\n      <td>Aug 9, 2019</td>\n      <td>Aug 19, 2019</td>\n      <td>Everyone</td>\n      <td>https://biliyor-musun-sons.flycricket.io/priva...</td>\n      <td>True</td>\n      <td>False</td>\n      <td>False</td>\n      <td>2021-06-16 12:59:19</td>\n    </tr>\n  </tbody>\n</table>\n<p>2312944 rows × 24 columns</p>\n</div>"
     },
     "execution_count": 27,
     "metadata": {},
     "output_type": "execute_result"
    }
   ],
   "source": [
    "dados_completo"
   ],
   "metadata": {
    "collapsed": false
   }
  },
  {
   "cell_type": "code",
   "execution_count": 47,
   "outputs": [
    {
     "data": {
      "text/plain": "                                                  APP_NAME  TOTAL\n322                                             #AKTIVIZIM      2\n618                                                #imOKru      2\n654                                                  #team      2\n1038                                    (G)I-DLE Wallpaper      2\n1637                                                .Chase      2\n...                                                    ...    ...\n2172384                         🐲 MCPE How to Train Dragon      2\n2172392                            🐴Learn to ride a horse🐴      2\n2172495                         👒 👓 College Girls Dress Up      2\n2172689  💎Stickers de Mikecrack y Los Compas para WhatsApp      2\n2177810                                   🥠 Fortune Cookie      2\n\n[46054 rows x 2 columns]",
      "text/html": "<div>\n<style scoped>\n    .dataframe tbody tr th:only-of-type {\n        vertical-align: middle;\n    }\n\n    .dataframe tbody tr th {\n        vertical-align: top;\n    }\n\n    .dataframe thead th {\n        text-align: right;\n    }\n</style>\n<table border=\"1\" class=\"dataframe\">\n  <thead>\n    <tr style=\"text-align: right;\">\n      <th></th>\n      <th>APP_NAME</th>\n      <th>TOTAL</th>\n    </tr>\n  </thead>\n  <tbody>\n    <tr>\n      <th>322</th>\n      <td>#AKTIVIZIM</td>\n      <td>2</td>\n    </tr>\n    <tr>\n      <th>618</th>\n      <td>#imOKru</td>\n      <td>2</td>\n    </tr>\n    <tr>\n      <th>654</th>\n      <td>#team</td>\n      <td>2</td>\n    </tr>\n    <tr>\n      <th>1038</th>\n      <td>(G)I-DLE Wallpaper</td>\n      <td>2</td>\n    </tr>\n    <tr>\n      <th>1637</th>\n      <td>.Chase</td>\n      <td>2</td>\n    </tr>\n    <tr>\n      <th>...</th>\n      <td>...</td>\n      <td>...</td>\n    </tr>\n    <tr>\n      <th>2172384</th>\n      <td>🐲 MCPE How to Train Dragon</td>\n      <td>2</td>\n    </tr>\n    <tr>\n      <th>2172392</th>\n      <td>🐴Learn to ride a horse🐴</td>\n      <td>2</td>\n    </tr>\n    <tr>\n      <th>2172495</th>\n      <td>👒 👓 College Girls Dress Up</td>\n      <td>2</td>\n    </tr>\n    <tr>\n      <th>2172689</th>\n      <td>💎Stickers de Mikecrack y Los Compas para WhatsApp</td>\n      <td>2</td>\n    </tr>\n    <tr>\n      <th>2177810</th>\n      <td>🥠 Fortune Cookie</td>\n      <td>2</td>\n    </tr>\n  </tbody>\n</table>\n<p>46054 rows × 2 columns</p>\n</div>"
     },
     "execution_count": 47,
     "metadata": {},
     "output_type": "execute_result"
    }
   ],
   "source": [
    "df_agrupado = dados_completo.groupby('APP_NAME').size().reset_index(name='TOTAL')\n",
    "df_agrupado[df_agrupado['TOTAL'] == 2]"
   ],
   "metadata": {
    "collapsed": false
   }
  },
  {
   "cell_type": "code",
   "execution_count": 48,
   "outputs": [
    {
     "data": {
      "text/plain": "            APP_NAME                   APP_ID CATEGORY  RATING  RATING_COUNT  \\\n142946  1 Pic 1 Word   com.msgraphic.bpicword     Word     4.5          14.0   \n986592  1 Pic 1 Word  com.andyh.puzzlepicture   Puzzle     0.0           0.0   \n\n       INSTALLS  MINIMUM_INSTALLS  MAXIMUM_INSTALLS  FREE  PRICE  ...  \\\n142946   1,000+            1000.0              1066  True    0.0  ...   \n986592     100+             100.0               112  True    0.0  ...   \n\n                               DEVELOPER_WEBSITE           DEVELOPER_EMAIL  \\\n142946  http://pub-2yy2m-zd52t.quickappninja.com    mswebgraphic@gmail.com   \n986592  http://pub-yb63t-jfwvs.quickappninja.com  game.casual969@gmail.com   \n\n            RELEASED  LAST_UPDATED CONTENT_RATING  \\\n142946  Oct 22, 2015  Dec 28, 2015       Everyone   \n986592   Apr 9, 2020  Jun 08, 2021       Everyone   \n\n                                      PRIVACY_POLICY AD_SUPPORTED  \\\n142946             http://m.mswebgraphic.webnode.gr/         True   \n986592  https://sites.google.com/view/puzzle-picture         True   \n\n       IN_APP_PURCHASES EDITORS_CHOICE         SCRAPED_TIME  \n142946             True          False  2021-06-15 22:39:55  \n986592             True          False  2021-06-16 12:05:55  \n\n[2 rows x 24 columns]",
      "text/html": "<div>\n<style scoped>\n    .dataframe tbody tr th:only-of-type {\n        vertical-align: middle;\n    }\n\n    .dataframe tbody tr th {\n        vertical-align: top;\n    }\n\n    .dataframe thead th {\n        text-align: right;\n    }\n</style>\n<table border=\"1\" class=\"dataframe\">\n  <thead>\n    <tr style=\"text-align: right;\">\n      <th></th>\n      <th>APP_NAME</th>\n      <th>APP_ID</th>\n      <th>CATEGORY</th>\n      <th>RATING</th>\n      <th>RATING_COUNT</th>\n      <th>INSTALLS</th>\n      <th>MINIMUM_INSTALLS</th>\n      <th>MAXIMUM_INSTALLS</th>\n      <th>FREE</th>\n      <th>PRICE</th>\n      <th>...</th>\n      <th>DEVELOPER_WEBSITE</th>\n      <th>DEVELOPER_EMAIL</th>\n      <th>RELEASED</th>\n      <th>LAST_UPDATED</th>\n      <th>CONTENT_RATING</th>\n      <th>PRIVACY_POLICY</th>\n      <th>AD_SUPPORTED</th>\n      <th>IN_APP_PURCHASES</th>\n      <th>EDITORS_CHOICE</th>\n      <th>SCRAPED_TIME</th>\n    </tr>\n  </thead>\n  <tbody>\n    <tr>\n      <th>142946</th>\n      <td>1 Pic 1 Word</td>\n      <td>com.msgraphic.bpicword</td>\n      <td>Word</td>\n      <td>4.5</td>\n      <td>14.0</td>\n      <td>1,000+</td>\n      <td>1000.0</td>\n      <td>1066</td>\n      <td>True</td>\n      <td>0.0</td>\n      <td>...</td>\n      <td>http://pub-2yy2m-zd52t.quickappninja.com</td>\n      <td>mswebgraphic@gmail.com</td>\n      <td>Oct 22, 2015</td>\n      <td>Dec 28, 2015</td>\n      <td>Everyone</td>\n      <td>http://m.mswebgraphic.webnode.gr/</td>\n      <td>True</td>\n      <td>True</td>\n      <td>False</td>\n      <td>2021-06-15 22:39:55</td>\n    </tr>\n    <tr>\n      <th>986592</th>\n      <td>1 Pic 1 Word</td>\n      <td>com.andyh.puzzlepicture</td>\n      <td>Puzzle</td>\n      <td>0.0</td>\n      <td>0.0</td>\n      <td>100+</td>\n      <td>100.0</td>\n      <td>112</td>\n      <td>True</td>\n      <td>0.0</td>\n      <td>...</td>\n      <td>http://pub-yb63t-jfwvs.quickappninja.com</td>\n      <td>game.casual969@gmail.com</td>\n      <td>Apr 9, 2020</td>\n      <td>Jun 08, 2021</td>\n      <td>Everyone</td>\n      <td>https://sites.google.com/view/puzzle-picture</td>\n      <td>True</td>\n      <td>True</td>\n      <td>False</td>\n      <td>2021-06-16 12:05:55</td>\n    </tr>\n  </tbody>\n</table>\n<p>2 rows × 24 columns</p>\n</div>"
     },
     "execution_count": 48,
     "metadata": {},
     "output_type": "execute_result"
    }
   ],
   "source": [
    "dados_completo[dados_completo['APP_NAME'] == '1 Pic 1 Word']"
   ],
   "metadata": {
    "collapsed": false
   }
  },
  {
   "cell_type": "code",
   "execution_count": 21,
   "outputs": [
    {
     "name": "stdout",
     "output_type": "stream",
     "text": [
      "Existe valores duplicados\n"
     ]
    }
   ],
   "source": [
    "if any(dados_completo['APP_NAME'].duplicated()):\n",
    "    print('Existe valores duplicados')\n",
    "else:\n",
    "    print('Não existe valores duplicados')"
   ],
   "metadata": {
    "collapsed": false
   }
  },
  {
   "cell_type": "code",
   "execution_count": 52,
   "outputs": [
    {
     "data": {
      "text/plain": "0              10\n1            5000\n2              50\n3              10\n4             100\n            ...  \n2312939    100000\n2312940       100\n2312941       100\n2312942      1000\n2312943       100\nName: INSTALLS, Length: 2312944, dtype: int64"
     },
     "execution_count": 52,
     "metadata": {},
     "output_type": "execute_result"
    }
   ],
   "source": [
    "dados_completo.INSTALLS.fillna(value='0', inplace=True)\n",
    "dados_completo.INSTALLS = dados_completo.INSTALLS.apply(lambda x: x.strip('+') )\n",
    "dados_completo.INSTALLS = dados_completo.INSTALLS.apply(lambda x: x.replace(',', '') )\n",
    "dados_completo.INSTALLS = pd.to_numeric(dados_completo.INSTALLS)\n",
    "dados_completo.INSTALLS"
   ],
   "metadata": {
    "collapsed": false
   }
  },
  {
   "cell_type": "code",
   "execution_count": 53,
   "outputs": [
    {
     "data": {
      "text/plain": "                                            APP_NAME  \\\n0                                            Gakondo   \n1                                Ampere Battery Info   \n2                                             Vibook   \n3  Smart City Trichy Public Service Vehicles 17UC...   \n4                                            GROW.me   \n\n                       APP_ID       CATEGORY  RATING  RATING_COUNT  INSTALLS  \\\n0         com.ishakwe.gakondo      Adventure     0.0           0.0        10   \n1  com.webserveis.batteryinfo          Tools     4.4          64.0      5000   \n2        com.doantiepvien.crm   Productivity     0.0           0.0        50   \n3     cst.stJoseph.ug17ucs548  Communication     5.0           5.0        10   \n4        com.horodyski.grower          Tools     0.0           0.0       100   \n\n   MINIMUM_INSTALLS  MAXIMUM_INSTALLS  FREE  PRICE  ...  \\\n0              10.0                15  True    0.0  ...   \n1            5000.0              7662  True    0.0  ...   \n2              50.0                58  True    0.0  ...   \n3              10.0                19  True    0.0  ...   \n4             100.0               478  True    0.0  ...   \n\n                  DEVELOPER_WEBSITE              DEVELOPER_EMAIL  \\\n0       https://beniyizibyose.tk/#/       jean21101999@gmail.com   \n1   https://webserveis.netlify.app/         webserveis@gmail.com   \n2                               NaN          vnacrewit@gmail.com   \n3  http://www.climatesmarttech.com/  climatesmarttech2@gmail.com   \n4       http://www.horodyski.com.pl    rmilekhorodyski@gmail.com   \n\n       RELEASED  LAST_UPDATED CONTENT_RATING  \\\n0  Feb 26, 2020  Feb 26, 2020       Everyone   \n1  May 21, 2020  May 06, 2021       Everyone   \n2   Aug 9, 2019  Aug 19, 2019       Everyone   \n3  Sep 10, 2018  Oct 13, 2018       Everyone   \n4  Feb 21, 2020  Nov 12, 2018       Everyone   \n\n                                      PRIVACY_POLICY AD_SUPPORTED  \\\n0                 https://beniyizibyose.tk/projects/        False   \n1  https://dev4phones.wordpress.com/licencia-de-uso/         True   \n2  https://www.vietnamairlines.com/vn/en/terms-an...        False   \n3                                                NaN         True   \n4                        http://www.horodyski.com.pl        False   \n\n  IN_APP_PURCHASES EDITORS_CHOICE         SCRAPED_TIME  \n0            False          False  2021-06-15 20:19:35  \n1            False          False  2021-06-15 20:19:35  \n2            False          False  2021-06-15 20:19:35  \n3            False          False  2021-06-15 20:19:35  \n4            False          False  2021-06-15 20:19:35  \n\n[5 rows x 24 columns]",
      "text/html": "<div>\n<style scoped>\n    .dataframe tbody tr th:only-of-type {\n        vertical-align: middle;\n    }\n\n    .dataframe tbody tr th {\n        vertical-align: top;\n    }\n\n    .dataframe thead th {\n        text-align: right;\n    }\n</style>\n<table border=\"1\" class=\"dataframe\">\n  <thead>\n    <tr style=\"text-align: right;\">\n      <th></th>\n      <th>APP_NAME</th>\n      <th>APP_ID</th>\n      <th>CATEGORY</th>\n      <th>RATING</th>\n      <th>RATING_COUNT</th>\n      <th>INSTALLS</th>\n      <th>MINIMUM_INSTALLS</th>\n      <th>MAXIMUM_INSTALLS</th>\n      <th>FREE</th>\n      <th>PRICE</th>\n      <th>...</th>\n      <th>DEVELOPER_WEBSITE</th>\n      <th>DEVELOPER_EMAIL</th>\n      <th>RELEASED</th>\n      <th>LAST_UPDATED</th>\n      <th>CONTENT_RATING</th>\n      <th>PRIVACY_POLICY</th>\n      <th>AD_SUPPORTED</th>\n      <th>IN_APP_PURCHASES</th>\n      <th>EDITORS_CHOICE</th>\n      <th>SCRAPED_TIME</th>\n    </tr>\n  </thead>\n  <tbody>\n    <tr>\n      <th>0</th>\n      <td>Gakondo</td>\n      <td>com.ishakwe.gakondo</td>\n      <td>Adventure</td>\n      <td>0.0</td>\n      <td>0.0</td>\n      <td>10</td>\n      <td>10.0</td>\n      <td>15</td>\n      <td>True</td>\n      <td>0.0</td>\n      <td>...</td>\n      <td>https://beniyizibyose.tk/#/</td>\n      <td>jean21101999@gmail.com</td>\n      <td>Feb 26, 2020</td>\n      <td>Feb 26, 2020</td>\n      <td>Everyone</td>\n      <td>https://beniyizibyose.tk/projects/</td>\n      <td>False</td>\n      <td>False</td>\n      <td>False</td>\n      <td>2021-06-15 20:19:35</td>\n    </tr>\n    <tr>\n      <th>1</th>\n      <td>Ampere Battery Info</td>\n      <td>com.webserveis.batteryinfo</td>\n      <td>Tools</td>\n      <td>4.4</td>\n      <td>64.0</td>\n      <td>5000</td>\n      <td>5000.0</td>\n      <td>7662</td>\n      <td>True</td>\n      <td>0.0</td>\n      <td>...</td>\n      <td>https://webserveis.netlify.app/</td>\n      <td>webserveis@gmail.com</td>\n      <td>May 21, 2020</td>\n      <td>May 06, 2021</td>\n      <td>Everyone</td>\n      <td>https://dev4phones.wordpress.com/licencia-de-uso/</td>\n      <td>True</td>\n      <td>False</td>\n      <td>False</td>\n      <td>2021-06-15 20:19:35</td>\n    </tr>\n    <tr>\n      <th>2</th>\n      <td>Vibook</td>\n      <td>com.doantiepvien.crm</td>\n      <td>Productivity</td>\n      <td>0.0</td>\n      <td>0.0</td>\n      <td>50</td>\n      <td>50.0</td>\n      <td>58</td>\n      <td>True</td>\n      <td>0.0</td>\n      <td>...</td>\n      <td>NaN</td>\n      <td>vnacrewit@gmail.com</td>\n      <td>Aug 9, 2019</td>\n      <td>Aug 19, 2019</td>\n      <td>Everyone</td>\n      <td>https://www.vietnamairlines.com/vn/en/terms-an...</td>\n      <td>False</td>\n      <td>False</td>\n      <td>False</td>\n      <td>2021-06-15 20:19:35</td>\n    </tr>\n    <tr>\n      <th>3</th>\n      <td>Smart City Trichy Public Service Vehicles 17UC...</td>\n      <td>cst.stJoseph.ug17ucs548</td>\n      <td>Communication</td>\n      <td>5.0</td>\n      <td>5.0</td>\n      <td>10</td>\n      <td>10.0</td>\n      <td>19</td>\n      <td>True</td>\n      <td>0.0</td>\n      <td>...</td>\n      <td>http://www.climatesmarttech.com/</td>\n      <td>climatesmarttech2@gmail.com</td>\n      <td>Sep 10, 2018</td>\n      <td>Oct 13, 2018</td>\n      <td>Everyone</td>\n      <td>NaN</td>\n      <td>True</td>\n      <td>False</td>\n      <td>False</td>\n      <td>2021-06-15 20:19:35</td>\n    </tr>\n    <tr>\n      <th>4</th>\n      <td>GROW.me</td>\n      <td>com.horodyski.grower</td>\n      <td>Tools</td>\n      <td>0.0</td>\n      <td>0.0</td>\n      <td>100</td>\n      <td>100.0</td>\n      <td>478</td>\n      <td>True</td>\n      <td>0.0</td>\n      <td>...</td>\n      <td>http://www.horodyski.com.pl</td>\n      <td>rmilekhorodyski@gmail.com</td>\n      <td>Feb 21, 2020</td>\n      <td>Nov 12, 2018</td>\n      <td>Everyone</td>\n      <td>http://www.horodyski.com.pl</td>\n      <td>False</td>\n      <td>False</td>\n      <td>False</td>\n      <td>2021-06-15 20:19:35</td>\n    </tr>\n  </tbody>\n</table>\n<p>5 rows × 24 columns</p>\n</div>"
     },
     "execution_count": 53,
     "metadata": {},
     "output_type": "execute_result"
    }
   ],
   "source": [
    "dados_completo.head()"
   ],
   "metadata": {
    "collapsed": false
   }
  },
  {
   "cell_type": "code",
   "execution_count": 59,
   "outputs": [
    {
     "data": {
      "text/plain": "(22883, 2312944)"
     },
     "execution_count": 59,
     "metadata": {},
     "output_type": "execute_result"
    }
   ],
   "source": [
    "dados_completo.RATING.isnull().sum(), dados_completo.RATING.isnull().count()"
   ],
   "metadata": {
    "collapsed": false
   }
  },
  {
   "cell_type": "code",
   "execution_count": 66,
   "outputs": [
    {
     "data": {
      "text/plain": "                                                  APP_NAME  \\\n0                                                  Gakondo   \n1                                      Ampere Battery Info   \n2                                                   Vibook   \n3        Smart City Trichy Public Service Vehicles 17UC...   \n4                                                  GROW.me   \n...                                                    ...   \n2312939                                           大俠客—熱血歸來   \n2312940                                         ORU Online   \n2312941                                     Data Structure   \n2312942                                        Devi Suktam   \n2312943                       Biliyor Musun - Sonsuz Yarış   \n\n                                       APP_ID       CATEGORY  RATING  \\\n0                         com.ishakwe.gakondo      Adventure     0.0   \n1                  com.webserveis.batteryinfo          Tools     4.4   \n2                        com.doantiepvien.crm   Productivity     0.0   \n3                     cst.stJoseph.ug17ucs548  Communication     5.0   \n4                        com.horodyski.grower          Tools     0.0   \n...                                       ...            ...     ...   \n2312939                         com.rxsj.ssjj   Role Playing     4.3   \n2312940              com.threedream.oruonline      Education     0.0   \n2312941  datastructure.appoworld.datastucture      Education     0.0   \n2312942                     ishan.devi.suktam  Music & Audio     3.5   \n2312943             com.yyazilim.biliyormusun         Trivia     5.0   \n\n         RATING_COUNT  INSTALLS  MINIMUM_INSTALLS  MAXIMUM_INSTALLS  FREE  \\\n0                 0.0        10              10.0                15  True   \n1                64.0      5000            5000.0              7662  True   \n2                 0.0        50              50.0                58  True   \n3                 5.0        10              10.0                19  True   \n4                 0.0       100             100.0               478  True   \n...               ...       ...               ...               ...   ...   \n2312939       16775.0    100000          100000.0            337109  True   \n2312940           0.0       100             100.0               430  True   \n2312941           0.0       100             100.0               202  True   \n2312942           8.0      1000            1000.0              2635  True   \n2312943          12.0       100             100.0               354  True   \n\n         PRICE  ...                  DEVELOPER_WEBSITE  \\\n0          0.0  ...        https://beniyizibyose.tk/#/   \n1          0.0  ...    https://webserveis.netlify.app/   \n2          0.0  ...                                NaN   \n3          0.0  ...   http://www.climatesmarttech.com/   \n4          0.0  ...        http://www.horodyski.com.pl   \n...        ...  ...                                ...   \n2312939    0.0  ...          http://www.4399sy.com.hk/   \n2312940    0.0  ...                http://www.oru.edu/   \n2312941    0.0  ...                                NaN   \n2312942    0.0  ...  https://a70f78905.app-ads-txt.com   \n2312943    0.0  ...                                NaN   \n\n                      DEVELOPER_EMAIL      RELEASED  LAST_UPDATED  \\\n0              jean21101999@gmail.com  Feb 26, 2020  Feb 26, 2020   \n1                webserveis@gmail.com  May 21, 2020  May 06, 2021   \n2                 vnacrewit@gmail.com   Aug 9, 2019  Aug 19, 2019   \n3         climatesmarttech2@gmail.com  Sep 10, 2018  Oct 13, 2018   \n4           rmilekhorodyski@gmail.com  Feb 21, 2020  Nov 12, 2018   \n...                               ...           ...           ...   \n2312939           ssjjcomhk@gmail.com           NaN  Jun 01, 2021   \n2312940     3DreamDeveloper@gmail.com  Jan 17, 2018  Feb 02, 2018   \n2312941  appoworld.official@gmail.com  Aug 19, 2018  Aug 19, 2018   \n2312942           ruchisono@gmail.com   Aug 1, 2016  May 05, 2021   \n2312943     yyazilimdevelop@gmail.com   Aug 9, 2019  Aug 19, 2019   \n\n        CONTENT_RATING                                     PRIVACY_POLICY  \\\n0             Everyone                 https://beniyizibyose.tk/projects/   \n1             Everyone  https://dev4phones.wordpress.com/licencia-de-uso/   \n2             Everyone  https://www.vietnamairlines.com/vn/en/terms-an...   \n3             Everyone                                                NaN   \n4             Everyone                        http://www.horodyski.com.pl   \n...                ...                                                ...   \n2312939           Teen             http://a.4399sy.com.hk/user/aggreement   \n2312940       Everyone    http://www.oru.edu/about-oru/privacy-policy.php   \n2312941       Everyone  https://appoworld.000webhostapp.com/datastruct...   \n2312942       Everyone  https://docs.google.com/document/d/1x-9reZuLRX...   \n2312943       Everyone  https://biliyor-musun-sons.flycricket.io/priva...   \n\n        AD_SUPPORTED IN_APP_PURCHASES EDITORS_CHOICE         SCRAPED_TIME  \n0              False            False          False  2021-06-15 20:19:35  \n1               True            False          False  2021-06-15 20:19:35  \n2              False            False          False  2021-06-15 20:19:35  \n3               True            False          False  2021-06-15 20:19:35  \n4              False            False          False  2021-06-15 20:19:35  \n...              ...              ...            ...                  ...  \n2312939        False            False          False  2021-06-16 12:59:18  \n2312940        False            False          False  2021-06-16 12:59:19  \n2312941        False            False          False  2021-06-16 12:59:19  \n2312942         True            False          False  2021-06-16 12:59:19  \n2312943         True            False          False  2021-06-16 12:59:19  \n\n[2312944 rows x 24 columns]",
      "text/html": "<div>\n<style scoped>\n    .dataframe tbody tr th:only-of-type {\n        vertical-align: middle;\n    }\n\n    .dataframe tbody tr th {\n        vertical-align: top;\n    }\n\n    .dataframe thead th {\n        text-align: right;\n    }\n</style>\n<table border=\"1\" class=\"dataframe\">\n  <thead>\n    <tr style=\"text-align: right;\">\n      <th></th>\n      <th>APP_NAME</th>\n      <th>APP_ID</th>\n      <th>CATEGORY</th>\n      <th>RATING</th>\n      <th>RATING_COUNT</th>\n      <th>INSTALLS</th>\n      <th>MINIMUM_INSTALLS</th>\n      <th>MAXIMUM_INSTALLS</th>\n      <th>FREE</th>\n      <th>PRICE</th>\n      <th>...</th>\n      <th>DEVELOPER_WEBSITE</th>\n      <th>DEVELOPER_EMAIL</th>\n      <th>RELEASED</th>\n      <th>LAST_UPDATED</th>\n      <th>CONTENT_RATING</th>\n      <th>PRIVACY_POLICY</th>\n      <th>AD_SUPPORTED</th>\n      <th>IN_APP_PURCHASES</th>\n      <th>EDITORS_CHOICE</th>\n      <th>SCRAPED_TIME</th>\n    </tr>\n  </thead>\n  <tbody>\n    <tr>\n      <th>0</th>\n      <td>Gakondo</td>\n      <td>com.ishakwe.gakondo</td>\n      <td>Adventure</td>\n      <td>0.0</td>\n      <td>0.0</td>\n      <td>10</td>\n      <td>10.0</td>\n      <td>15</td>\n      <td>True</td>\n      <td>0.0</td>\n      <td>...</td>\n      <td>https://beniyizibyose.tk/#/</td>\n      <td>jean21101999@gmail.com</td>\n      <td>Feb 26, 2020</td>\n      <td>Feb 26, 2020</td>\n      <td>Everyone</td>\n      <td>https://beniyizibyose.tk/projects/</td>\n      <td>False</td>\n      <td>False</td>\n      <td>False</td>\n      <td>2021-06-15 20:19:35</td>\n    </tr>\n    <tr>\n      <th>1</th>\n      <td>Ampere Battery Info</td>\n      <td>com.webserveis.batteryinfo</td>\n      <td>Tools</td>\n      <td>4.4</td>\n      <td>64.0</td>\n      <td>5000</td>\n      <td>5000.0</td>\n      <td>7662</td>\n      <td>True</td>\n      <td>0.0</td>\n      <td>...</td>\n      <td>https://webserveis.netlify.app/</td>\n      <td>webserveis@gmail.com</td>\n      <td>May 21, 2020</td>\n      <td>May 06, 2021</td>\n      <td>Everyone</td>\n      <td>https://dev4phones.wordpress.com/licencia-de-uso/</td>\n      <td>True</td>\n      <td>False</td>\n      <td>False</td>\n      <td>2021-06-15 20:19:35</td>\n    </tr>\n    <tr>\n      <th>2</th>\n      <td>Vibook</td>\n      <td>com.doantiepvien.crm</td>\n      <td>Productivity</td>\n      <td>0.0</td>\n      <td>0.0</td>\n      <td>50</td>\n      <td>50.0</td>\n      <td>58</td>\n      <td>True</td>\n      <td>0.0</td>\n      <td>...</td>\n      <td>NaN</td>\n      <td>vnacrewit@gmail.com</td>\n      <td>Aug 9, 2019</td>\n      <td>Aug 19, 2019</td>\n      <td>Everyone</td>\n      <td>https://www.vietnamairlines.com/vn/en/terms-an...</td>\n      <td>False</td>\n      <td>False</td>\n      <td>False</td>\n      <td>2021-06-15 20:19:35</td>\n    </tr>\n    <tr>\n      <th>3</th>\n      <td>Smart City Trichy Public Service Vehicles 17UC...</td>\n      <td>cst.stJoseph.ug17ucs548</td>\n      <td>Communication</td>\n      <td>5.0</td>\n      <td>5.0</td>\n      <td>10</td>\n      <td>10.0</td>\n      <td>19</td>\n      <td>True</td>\n      <td>0.0</td>\n      <td>...</td>\n      <td>http://www.climatesmarttech.com/</td>\n      <td>climatesmarttech2@gmail.com</td>\n      <td>Sep 10, 2018</td>\n      <td>Oct 13, 2018</td>\n      <td>Everyone</td>\n      <td>NaN</td>\n      <td>True</td>\n      <td>False</td>\n      <td>False</td>\n      <td>2021-06-15 20:19:35</td>\n    </tr>\n    <tr>\n      <th>4</th>\n      <td>GROW.me</td>\n      <td>com.horodyski.grower</td>\n      <td>Tools</td>\n      <td>0.0</td>\n      <td>0.0</td>\n      <td>100</td>\n      <td>100.0</td>\n      <td>478</td>\n      <td>True</td>\n      <td>0.0</td>\n      <td>...</td>\n      <td>http://www.horodyski.com.pl</td>\n      <td>rmilekhorodyski@gmail.com</td>\n      <td>Feb 21, 2020</td>\n      <td>Nov 12, 2018</td>\n      <td>Everyone</td>\n      <td>http://www.horodyski.com.pl</td>\n      <td>False</td>\n      <td>False</td>\n      <td>False</td>\n      <td>2021-06-15 20:19:35</td>\n    </tr>\n    <tr>\n      <th>...</th>\n      <td>...</td>\n      <td>...</td>\n      <td>...</td>\n      <td>...</td>\n      <td>...</td>\n      <td>...</td>\n      <td>...</td>\n      <td>...</td>\n      <td>...</td>\n      <td>...</td>\n      <td>...</td>\n      <td>...</td>\n      <td>...</td>\n      <td>...</td>\n      <td>...</td>\n      <td>...</td>\n      <td>...</td>\n      <td>...</td>\n      <td>...</td>\n      <td>...</td>\n      <td>...</td>\n    </tr>\n    <tr>\n      <th>2312939</th>\n      <td>大俠客—熱血歸來</td>\n      <td>com.rxsj.ssjj</td>\n      <td>Role Playing</td>\n      <td>4.3</td>\n      <td>16775.0</td>\n      <td>100000</td>\n      <td>100000.0</td>\n      <td>337109</td>\n      <td>True</td>\n      <td>0.0</td>\n      <td>...</td>\n      <td>http://www.4399sy.com.hk/</td>\n      <td>ssjjcomhk@gmail.com</td>\n      <td>NaN</td>\n      <td>Jun 01, 2021</td>\n      <td>Teen</td>\n      <td>http://a.4399sy.com.hk/user/aggreement</td>\n      <td>False</td>\n      <td>False</td>\n      <td>False</td>\n      <td>2021-06-16 12:59:18</td>\n    </tr>\n    <tr>\n      <th>2312940</th>\n      <td>ORU Online</td>\n      <td>com.threedream.oruonline</td>\n      <td>Education</td>\n      <td>0.0</td>\n      <td>0.0</td>\n      <td>100</td>\n      <td>100.0</td>\n      <td>430</td>\n      <td>True</td>\n      <td>0.0</td>\n      <td>...</td>\n      <td>http://www.oru.edu/</td>\n      <td>3DreamDeveloper@gmail.com</td>\n      <td>Jan 17, 2018</td>\n      <td>Feb 02, 2018</td>\n      <td>Everyone</td>\n      <td>http://www.oru.edu/about-oru/privacy-policy.php</td>\n      <td>False</td>\n      <td>False</td>\n      <td>False</td>\n      <td>2021-06-16 12:59:19</td>\n    </tr>\n    <tr>\n      <th>2312941</th>\n      <td>Data Structure</td>\n      <td>datastructure.appoworld.datastucture</td>\n      <td>Education</td>\n      <td>0.0</td>\n      <td>0.0</td>\n      <td>100</td>\n      <td>100.0</td>\n      <td>202</td>\n      <td>True</td>\n      <td>0.0</td>\n      <td>...</td>\n      <td>NaN</td>\n      <td>appoworld.official@gmail.com</td>\n      <td>Aug 19, 2018</td>\n      <td>Aug 19, 2018</td>\n      <td>Everyone</td>\n      <td>https://appoworld.000webhostapp.com/datastruct...</td>\n      <td>False</td>\n      <td>False</td>\n      <td>False</td>\n      <td>2021-06-16 12:59:19</td>\n    </tr>\n    <tr>\n      <th>2312942</th>\n      <td>Devi Suktam</td>\n      <td>ishan.devi.suktam</td>\n      <td>Music &amp; Audio</td>\n      <td>3.5</td>\n      <td>8.0</td>\n      <td>1000</td>\n      <td>1000.0</td>\n      <td>2635</td>\n      <td>True</td>\n      <td>0.0</td>\n      <td>...</td>\n      <td>https://a70f78905.app-ads-txt.com</td>\n      <td>ruchisono@gmail.com</td>\n      <td>Aug 1, 2016</td>\n      <td>May 05, 2021</td>\n      <td>Everyone</td>\n      <td>https://docs.google.com/document/d/1x-9reZuLRX...</td>\n      <td>True</td>\n      <td>False</td>\n      <td>False</td>\n      <td>2021-06-16 12:59:19</td>\n    </tr>\n    <tr>\n      <th>2312943</th>\n      <td>Biliyor Musun - Sonsuz Yarış</td>\n      <td>com.yyazilim.biliyormusun</td>\n      <td>Trivia</td>\n      <td>5.0</td>\n      <td>12.0</td>\n      <td>100</td>\n      <td>100.0</td>\n      <td>354</td>\n      <td>True</td>\n      <td>0.0</td>\n      <td>...</td>\n      <td>NaN</td>\n      <td>yyazilimdevelop@gmail.com</td>\n      <td>Aug 9, 2019</td>\n      <td>Aug 19, 2019</td>\n      <td>Everyone</td>\n      <td>https://biliyor-musun-sons.flycricket.io/priva...</td>\n      <td>True</td>\n      <td>False</td>\n      <td>False</td>\n      <td>2021-06-16 12:59:19</td>\n    </tr>\n  </tbody>\n</table>\n<p>2312944 rows × 24 columns</p>\n</div>"
     },
     "execution_count": 66,
     "metadata": {},
     "output_type": "execute_result"
    }
   ],
   "source": [
    "dados_completo"
   ],
   "metadata": {
    "collapsed": false
   }
  },
  {
   "cell_type": "code",
   "execution_count": 73,
   "outputs": [
    {
     "data": {
      "text/plain": "                                            APP_NAME  \\\n0                                            Gakondo   \n1                                Ampere Battery Info   \n2                                             Vibook   \n3  Smart City Trichy Public Service Vehicles 17UC...   \n4                                            GROW.me   \n\n                       APP_ID       CATEGORY  RATING  RATING_COUNT  INSTALLS  \\\n0         com.ishakwe.gakondo      Adventure     0.0           0.0        10   \n1  com.webserveis.batteryinfo          Tools     4.4          64.0      5000   \n2        com.doantiepvien.crm   Productivity     0.0           0.0        50   \n3     cst.stJoseph.ug17ucs548  Communication     5.0           5.0        10   \n4        com.horodyski.grower          Tools     0.0           0.0       100   \n\n   MINIMUM_INSTALLS  MAXIMUM_INSTALLS  FREE  PRICE  ...  \\\n0              10.0                15  True    0.0  ...   \n1            5000.0              7662  True    0.0  ...   \n2              50.0                58  True    0.0  ...   \n3              10.0                19  True    0.0  ...   \n4             100.0               478  True    0.0  ...   \n\n                  DEVELOPER_WEBSITE              DEVELOPER_EMAIL  \\\n0       https://beniyizibyose.tk/#/       jean21101999@gmail.com   \n1   https://webserveis.netlify.app/         webserveis@gmail.com   \n2                               NaN          vnacrewit@gmail.com   \n3  http://www.climatesmarttech.com/  climatesmarttech2@gmail.com   \n4       http://www.horodyski.com.pl    rmilekhorodyski@gmail.com   \n\n       RELEASED  LAST_UPDATED CONTENT_RATING  \\\n0  Feb 26, 2020  Feb 26, 2020       Everyone   \n1  May 21, 2020  May 06, 2021       Everyone   \n2   Aug 9, 2019  Aug 19, 2019       Everyone   \n3  Sep 10, 2018  Oct 13, 2018       Everyone   \n4  Feb 21, 2020  Nov 12, 2018       Everyone   \n\n                                      PRIVACY_POLICY AD_SUPPORTED  \\\n0                 https://beniyizibyose.tk/projects/        False   \n1  https://dev4phones.wordpress.com/licencia-de-uso/         True   \n2  https://www.vietnamairlines.com/vn/en/terms-an...        False   \n3                                                NaN         True   \n4                        http://www.horodyski.com.pl        False   \n\n  IN_APP_PURCHASES EDITORS_CHOICE         SCRAPED_TIME  \n0            False          False  2021-06-15 20:19:35  \n1            False          False  2021-06-15 20:19:35  \n2            False          False  2021-06-15 20:19:35  \n3            False          False  2021-06-15 20:19:35  \n4            False          False  2021-06-15 20:19:35  \n\n[5 rows x 24 columns]",
      "text/html": "<div>\n<style scoped>\n    .dataframe tbody tr th:only-of-type {\n        vertical-align: middle;\n    }\n\n    .dataframe tbody tr th {\n        vertical-align: top;\n    }\n\n    .dataframe thead th {\n        text-align: right;\n    }\n</style>\n<table border=\"1\" class=\"dataframe\">\n  <thead>\n    <tr style=\"text-align: right;\">\n      <th></th>\n      <th>APP_NAME</th>\n      <th>APP_ID</th>\n      <th>CATEGORY</th>\n      <th>RATING</th>\n      <th>RATING_COUNT</th>\n      <th>INSTALLS</th>\n      <th>MINIMUM_INSTALLS</th>\n      <th>MAXIMUM_INSTALLS</th>\n      <th>FREE</th>\n      <th>PRICE</th>\n      <th>...</th>\n      <th>DEVELOPER_WEBSITE</th>\n      <th>DEVELOPER_EMAIL</th>\n      <th>RELEASED</th>\n      <th>LAST_UPDATED</th>\n      <th>CONTENT_RATING</th>\n      <th>PRIVACY_POLICY</th>\n      <th>AD_SUPPORTED</th>\n      <th>IN_APP_PURCHASES</th>\n      <th>EDITORS_CHOICE</th>\n      <th>SCRAPED_TIME</th>\n    </tr>\n  </thead>\n  <tbody>\n    <tr>\n      <th>0</th>\n      <td>Gakondo</td>\n      <td>com.ishakwe.gakondo</td>\n      <td>Adventure</td>\n      <td>0.0</td>\n      <td>0.0</td>\n      <td>10</td>\n      <td>10.0</td>\n      <td>15</td>\n      <td>True</td>\n      <td>0.0</td>\n      <td>...</td>\n      <td>https://beniyizibyose.tk/#/</td>\n      <td>jean21101999@gmail.com</td>\n      <td>Feb 26, 2020</td>\n      <td>Feb 26, 2020</td>\n      <td>Everyone</td>\n      <td>https://beniyizibyose.tk/projects/</td>\n      <td>False</td>\n      <td>False</td>\n      <td>False</td>\n      <td>2021-06-15 20:19:35</td>\n    </tr>\n    <tr>\n      <th>1</th>\n      <td>Ampere Battery Info</td>\n      <td>com.webserveis.batteryinfo</td>\n      <td>Tools</td>\n      <td>4.4</td>\n      <td>64.0</td>\n      <td>5000</td>\n      <td>5000.0</td>\n      <td>7662</td>\n      <td>True</td>\n      <td>0.0</td>\n      <td>...</td>\n      <td>https://webserveis.netlify.app/</td>\n      <td>webserveis@gmail.com</td>\n      <td>May 21, 2020</td>\n      <td>May 06, 2021</td>\n      <td>Everyone</td>\n      <td>https://dev4phones.wordpress.com/licencia-de-uso/</td>\n      <td>True</td>\n      <td>False</td>\n      <td>False</td>\n      <td>2021-06-15 20:19:35</td>\n    </tr>\n    <tr>\n      <th>2</th>\n      <td>Vibook</td>\n      <td>com.doantiepvien.crm</td>\n      <td>Productivity</td>\n      <td>0.0</td>\n      <td>0.0</td>\n      <td>50</td>\n      <td>50.0</td>\n      <td>58</td>\n      <td>True</td>\n      <td>0.0</td>\n      <td>...</td>\n      <td>NaN</td>\n      <td>vnacrewit@gmail.com</td>\n      <td>Aug 9, 2019</td>\n      <td>Aug 19, 2019</td>\n      <td>Everyone</td>\n      <td>https://www.vietnamairlines.com/vn/en/terms-an...</td>\n      <td>False</td>\n      <td>False</td>\n      <td>False</td>\n      <td>2021-06-15 20:19:35</td>\n    </tr>\n    <tr>\n      <th>3</th>\n      <td>Smart City Trichy Public Service Vehicles 17UC...</td>\n      <td>cst.stJoseph.ug17ucs548</td>\n      <td>Communication</td>\n      <td>5.0</td>\n      <td>5.0</td>\n      <td>10</td>\n      <td>10.0</td>\n      <td>19</td>\n      <td>True</td>\n      <td>0.0</td>\n      <td>...</td>\n      <td>http://www.climatesmarttech.com/</td>\n      <td>climatesmarttech2@gmail.com</td>\n      <td>Sep 10, 2018</td>\n      <td>Oct 13, 2018</td>\n      <td>Everyone</td>\n      <td>NaN</td>\n      <td>True</td>\n      <td>False</td>\n      <td>False</td>\n      <td>2021-06-15 20:19:35</td>\n    </tr>\n    <tr>\n      <th>4</th>\n      <td>GROW.me</td>\n      <td>com.horodyski.grower</td>\n      <td>Tools</td>\n      <td>0.0</td>\n      <td>0.0</td>\n      <td>100</td>\n      <td>100.0</td>\n      <td>478</td>\n      <td>True</td>\n      <td>0.0</td>\n      <td>...</td>\n      <td>http://www.horodyski.com.pl</td>\n      <td>rmilekhorodyski@gmail.com</td>\n      <td>Feb 21, 2020</td>\n      <td>Nov 12, 2018</td>\n      <td>Everyone</td>\n      <td>http://www.horodyski.com.pl</td>\n      <td>False</td>\n      <td>False</td>\n      <td>False</td>\n      <td>2021-06-15 20:19:35</td>\n    </tr>\n  </tbody>\n</table>\n<p>5 rows × 24 columns</p>\n</div>"
     },
     "execution_count": 73,
     "metadata": {},
     "output_type": "execute_result"
    }
   ],
   "source": [
    "dados_completo.MINIMUM_ANDROID = dados_completo.MINIMUM_ANDROID.apply(lambda x: str(x).split(' ')[0])\n",
    "\n",
    "dados_completo.head()"
   ],
   "metadata": {
    "collapsed": false
   }
  },
  {
   "cell_type": "markdown",
   "source": [
    "<p>Total de aplicativo por categoria<p>"
   ],
   "metadata": {
    "collapsed": false
   }
  },
  {
   "cell_type": "code",
   "execution_count": 98,
   "outputs": [],
   "source": [
    "def dataframe_agrupado(nome_coluna: str, nome_agrupado: str):\n",
    "    df_agrupado = dados_completo.groupby(nome_coluna).size().reset_index(name=nome_agrupado)\n",
    "    df_agrupado.sort_values(by=nome_agrupado, ascending=False, inplace=True)\n",
    "    return df_agrupado"
   ],
   "metadata": {
    "collapsed": false
   }
  },
  {
   "cell_type": "code",
   "execution_count": 100,
   "outputs": [
    {
     "data": {
      "text/plain": "                   CATEGORY  TOTAL_APP_CATEGORIA\n15                Education               241090\n28            Music & Audio               154906\n42                    Tools               143988\n8                  Business               143771\n17            Entertainment               138276\n24                Lifestyle               118331\n7         Books & Reference               116728\n31          Personalization                89210\n21         Health & Fitness                83510\n33             Productivity                79698\n37                 Shopping                75256\n20             Food & Drink                73927\n43           Travel & Local                67288\n19                  Finance                65466\n2                    Arcade                53792\n34                   Puzzle                51168\n11                   Casual                50813\n13            Communication                48167\n40                   Sports                47483\n39                   Social                44734\n29         News & Magazines                42807\n32              Photography                35552\n26                  Medical                32065\n0                    Action                27555\n25        Maps & Navigation                26722\n38               Simulation                23282\n1                 Adventure                23203\n16              Educational                21308\n3              Art & Design                18539\n4           Auto & Vehicles                18280\n22             House & Home                14369\n45  Video Players & Editors                14015\n18                   Events                12841\n44                   Trivia                11795\n5                    Beauty                11772\n6                     Board                10588\n35                   Racing                10362\n36             Role Playing                10034\n47                     Word                 8630\n41                 Strategy                 8526\n9                      Card                 8179\n46                  Weather                 7246\n14                   Dating                 6524\n23         Libraries & Demo                 5198\n10                   Casino                 5076\n27                    Music                 4202\n30                Parenting                 3810\n12                   Comics                 2862",
      "text/html": "<div>\n<style scoped>\n    .dataframe tbody tr th:only-of-type {\n        vertical-align: middle;\n    }\n\n    .dataframe tbody tr th {\n        vertical-align: top;\n    }\n\n    .dataframe thead th {\n        text-align: right;\n    }\n</style>\n<table border=\"1\" class=\"dataframe\">\n  <thead>\n    <tr style=\"text-align: right;\">\n      <th></th>\n      <th>CATEGORY</th>\n      <th>TOTAL_APP_CATEGORIA</th>\n    </tr>\n  </thead>\n  <tbody>\n    <tr>\n      <th>15</th>\n      <td>Education</td>\n      <td>241090</td>\n    </tr>\n    <tr>\n      <th>28</th>\n      <td>Music &amp; Audio</td>\n      <td>154906</td>\n    </tr>\n    <tr>\n      <th>42</th>\n      <td>Tools</td>\n      <td>143988</td>\n    </tr>\n    <tr>\n      <th>8</th>\n      <td>Business</td>\n      <td>143771</td>\n    </tr>\n    <tr>\n      <th>17</th>\n      <td>Entertainment</td>\n      <td>138276</td>\n    </tr>\n    <tr>\n      <th>24</th>\n      <td>Lifestyle</td>\n      <td>118331</td>\n    </tr>\n    <tr>\n      <th>7</th>\n      <td>Books &amp; Reference</td>\n      <td>116728</td>\n    </tr>\n    <tr>\n      <th>31</th>\n      <td>Personalization</td>\n      <td>89210</td>\n    </tr>\n    <tr>\n      <th>21</th>\n      <td>Health &amp; Fitness</td>\n      <td>83510</td>\n    </tr>\n    <tr>\n      <th>33</th>\n      <td>Productivity</td>\n      <td>79698</td>\n    </tr>\n    <tr>\n      <th>37</th>\n      <td>Shopping</td>\n      <td>75256</td>\n    </tr>\n    <tr>\n      <th>20</th>\n      <td>Food &amp; Drink</td>\n      <td>73927</td>\n    </tr>\n    <tr>\n      <th>43</th>\n      <td>Travel &amp; Local</td>\n      <td>67288</td>\n    </tr>\n    <tr>\n      <th>19</th>\n      <td>Finance</td>\n      <td>65466</td>\n    </tr>\n    <tr>\n      <th>2</th>\n      <td>Arcade</td>\n      <td>53792</td>\n    </tr>\n    <tr>\n      <th>34</th>\n      <td>Puzzle</td>\n      <td>51168</td>\n    </tr>\n    <tr>\n      <th>11</th>\n      <td>Casual</td>\n      <td>50813</td>\n    </tr>\n    <tr>\n      <th>13</th>\n      <td>Communication</td>\n      <td>48167</td>\n    </tr>\n    <tr>\n      <th>40</th>\n      <td>Sports</td>\n      <td>47483</td>\n    </tr>\n    <tr>\n      <th>39</th>\n      <td>Social</td>\n      <td>44734</td>\n    </tr>\n    <tr>\n      <th>29</th>\n      <td>News &amp; Magazines</td>\n      <td>42807</td>\n    </tr>\n    <tr>\n      <th>32</th>\n      <td>Photography</td>\n      <td>35552</td>\n    </tr>\n    <tr>\n      <th>26</th>\n      <td>Medical</td>\n      <td>32065</td>\n    </tr>\n    <tr>\n      <th>0</th>\n      <td>Action</td>\n      <td>27555</td>\n    </tr>\n    <tr>\n      <th>25</th>\n      <td>Maps &amp; Navigation</td>\n      <td>26722</td>\n    </tr>\n    <tr>\n      <th>38</th>\n      <td>Simulation</td>\n      <td>23282</td>\n    </tr>\n    <tr>\n      <th>1</th>\n      <td>Adventure</td>\n      <td>23203</td>\n    </tr>\n    <tr>\n      <th>16</th>\n      <td>Educational</td>\n      <td>21308</td>\n    </tr>\n    <tr>\n      <th>3</th>\n      <td>Art &amp; Design</td>\n      <td>18539</td>\n    </tr>\n    <tr>\n      <th>4</th>\n      <td>Auto &amp; Vehicles</td>\n      <td>18280</td>\n    </tr>\n    <tr>\n      <th>22</th>\n      <td>House &amp; Home</td>\n      <td>14369</td>\n    </tr>\n    <tr>\n      <th>45</th>\n      <td>Video Players &amp; Editors</td>\n      <td>14015</td>\n    </tr>\n    <tr>\n      <th>18</th>\n      <td>Events</td>\n      <td>12841</td>\n    </tr>\n    <tr>\n      <th>44</th>\n      <td>Trivia</td>\n      <td>11795</td>\n    </tr>\n    <tr>\n      <th>5</th>\n      <td>Beauty</td>\n      <td>11772</td>\n    </tr>\n    <tr>\n      <th>6</th>\n      <td>Board</td>\n      <td>10588</td>\n    </tr>\n    <tr>\n      <th>35</th>\n      <td>Racing</td>\n      <td>10362</td>\n    </tr>\n    <tr>\n      <th>36</th>\n      <td>Role Playing</td>\n      <td>10034</td>\n    </tr>\n    <tr>\n      <th>47</th>\n      <td>Word</td>\n      <td>8630</td>\n    </tr>\n    <tr>\n      <th>41</th>\n      <td>Strategy</td>\n      <td>8526</td>\n    </tr>\n    <tr>\n      <th>9</th>\n      <td>Card</td>\n      <td>8179</td>\n    </tr>\n    <tr>\n      <th>46</th>\n      <td>Weather</td>\n      <td>7246</td>\n    </tr>\n    <tr>\n      <th>14</th>\n      <td>Dating</td>\n      <td>6524</td>\n    </tr>\n    <tr>\n      <th>23</th>\n      <td>Libraries &amp; Demo</td>\n      <td>5198</td>\n    </tr>\n    <tr>\n      <th>10</th>\n      <td>Casino</td>\n      <td>5076</td>\n    </tr>\n    <tr>\n      <th>27</th>\n      <td>Music</td>\n      <td>4202</td>\n    </tr>\n    <tr>\n      <th>30</th>\n      <td>Parenting</td>\n      <td>3810</td>\n    </tr>\n    <tr>\n      <th>12</th>\n      <td>Comics</td>\n      <td>2862</td>\n    </tr>\n  </tbody>\n</table>\n</div>"
     },
     "execution_count": 100,
     "metadata": {},
     "output_type": "execute_result"
    }
   ],
   "source": [
    "dados_categoria_agrupado = dataframe_agrupado('CATEGORY', 'TOTAL_APP_CATEGORIA')\n",
    "dados_categoria_agrupado"
   ],
   "metadata": {
    "collapsed": false
   }
  },
  {
   "cell_type": "code",
   "execution_count": 101,
   "outputs": [
    {
     "data": {
      "application/vnd.plotly.v1+json": {
       "data": [
        {
         "alignmentgroup": "True",
         "hovertemplate": "CATEGORY=%{x}<br>TOTAL_APP_CATEGORIA=%{y}<extra></extra>",
         "legendgroup": "",
         "marker": {
          "color": "#636efa",
          "pattern": {
           "shape": ""
          }
         },
         "name": "",
         "offsetgroup": "",
         "orientation": "v",
         "showlegend": false,
         "textposition": "auto",
         "x": [
          "Education",
          "Music & Audio",
          "Tools",
          "Business",
          "Entertainment",
          "Lifestyle",
          "Books & Reference",
          "Personalization",
          "Health & Fitness",
          "Productivity",
          "Shopping",
          "Food & Drink",
          "Travel & Local",
          "Finance",
          "Arcade",
          "Puzzle",
          "Casual",
          "Communication",
          "Sports",
          "Social",
          "News & Magazines",
          "Photography",
          "Medical",
          "Action",
          "Maps & Navigation",
          "Simulation",
          "Adventure",
          "Educational",
          "Art & Design",
          "Auto & Vehicles",
          "House & Home",
          "Video Players & Editors",
          "Events",
          "Trivia",
          "Beauty",
          "Board",
          "Racing",
          "Role Playing",
          "Word",
          "Strategy",
          "Card",
          "Weather",
          "Dating",
          "Libraries & Demo",
          "Casino",
          "Music",
          "Parenting",
          "Comics"
         ],
         "xaxis": "x",
         "y": [
          241090,
          154906,
          143988,
          143771,
          138276,
          118331,
          116728,
          89210,
          83510,
          79698,
          75256,
          73927,
          67288,
          65466,
          53792,
          51168,
          50813,
          48167,
          47483,
          44734,
          42807,
          35552,
          32065,
          27555,
          26722,
          23282,
          23203,
          21308,
          18539,
          18280,
          14369,
          14015,
          12841,
          11795,
          11772,
          10588,
          10362,
          10034,
          8630,
          8526,
          8179,
          7246,
          6524,
          5198,
          5076,
          4202,
          3810,
          2862
         ],
         "yaxis": "y",
         "type": "bar"
        }
       ],
       "layout": {
        "template": {
         "data": {
          "histogram2dcontour": [
           {
            "type": "histogram2dcontour",
            "colorbar": {
             "outlinewidth": 0,
             "ticks": ""
            },
            "colorscale": [
             [
              0.0,
              "#0d0887"
             ],
             [
              0.1111111111111111,
              "#46039f"
             ],
             [
              0.2222222222222222,
              "#7201a8"
             ],
             [
              0.3333333333333333,
              "#9c179e"
             ],
             [
              0.4444444444444444,
              "#bd3786"
             ],
             [
              0.5555555555555556,
              "#d8576b"
             ],
             [
              0.6666666666666666,
              "#ed7953"
             ],
             [
              0.7777777777777778,
              "#fb9f3a"
             ],
             [
              0.8888888888888888,
              "#fdca26"
             ],
             [
              1.0,
              "#f0f921"
             ]
            ]
           }
          ],
          "choropleth": [
           {
            "type": "choropleth",
            "colorbar": {
             "outlinewidth": 0,
             "ticks": ""
            }
           }
          ],
          "histogram2d": [
           {
            "type": "histogram2d",
            "colorbar": {
             "outlinewidth": 0,
             "ticks": ""
            },
            "colorscale": [
             [
              0.0,
              "#0d0887"
             ],
             [
              0.1111111111111111,
              "#46039f"
             ],
             [
              0.2222222222222222,
              "#7201a8"
             ],
             [
              0.3333333333333333,
              "#9c179e"
             ],
             [
              0.4444444444444444,
              "#bd3786"
             ],
             [
              0.5555555555555556,
              "#d8576b"
             ],
             [
              0.6666666666666666,
              "#ed7953"
             ],
             [
              0.7777777777777778,
              "#fb9f3a"
             ],
             [
              0.8888888888888888,
              "#fdca26"
             ],
             [
              1.0,
              "#f0f921"
             ]
            ]
           }
          ],
          "heatmap": [
           {
            "type": "heatmap",
            "colorbar": {
             "outlinewidth": 0,
             "ticks": ""
            },
            "colorscale": [
             [
              0.0,
              "#0d0887"
             ],
             [
              0.1111111111111111,
              "#46039f"
             ],
             [
              0.2222222222222222,
              "#7201a8"
             ],
             [
              0.3333333333333333,
              "#9c179e"
             ],
             [
              0.4444444444444444,
              "#bd3786"
             ],
             [
              0.5555555555555556,
              "#d8576b"
             ],
             [
              0.6666666666666666,
              "#ed7953"
             ],
             [
              0.7777777777777778,
              "#fb9f3a"
             ],
             [
              0.8888888888888888,
              "#fdca26"
             ],
             [
              1.0,
              "#f0f921"
             ]
            ]
           }
          ],
          "heatmapgl": [
           {
            "type": "heatmapgl",
            "colorbar": {
             "outlinewidth": 0,
             "ticks": ""
            },
            "colorscale": [
             [
              0.0,
              "#0d0887"
             ],
             [
              0.1111111111111111,
              "#46039f"
             ],
             [
              0.2222222222222222,
              "#7201a8"
             ],
             [
              0.3333333333333333,
              "#9c179e"
             ],
             [
              0.4444444444444444,
              "#bd3786"
             ],
             [
              0.5555555555555556,
              "#d8576b"
             ],
             [
              0.6666666666666666,
              "#ed7953"
             ],
             [
              0.7777777777777778,
              "#fb9f3a"
             ],
             [
              0.8888888888888888,
              "#fdca26"
             ],
             [
              1.0,
              "#f0f921"
             ]
            ]
           }
          ],
          "contourcarpet": [
           {
            "type": "contourcarpet",
            "colorbar": {
             "outlinewidth": 0,
             "ticks": ""
            }
           }
          ],
          "contour": [
           {
            "type": "contour",
            "colorbar": {
             "outlinewidth": 0,
             "ticks": ""
            },
            "colorscale": [
             [
              0.0,
              "#0d0887"
             ],
             [
              0.1111111111111111,
              "#46039f"
             ],
             [
              0.2222222222222222,
              "#7201a8"
             ],
             [
              0.3333333333333333,
              "#9c179e"
             ],
             [
              0.4444444444444444,
              "#bd3786"
             ],
             [
              0.5555555555555556,
              "#d8576b"
             ],
             [
              0.6666666666666666,
              "#ed7953"
             ],
             [
              0.7777777777777778,
              "#fb9f3a"
             ],
             [
              0.8888888888888888,
              "#fdca26"
             ],
             [
              1.0,
              "#f0f921"
             ]
            ]
           }
          ],
          "surface": [
           {
            "type": "surface",
            "colorbar": {
             "outlinewidth": 0,
             "ticks": ""
            },
            "colorscale": [
             [
              0.0,
              "#0d0887"
             ],
             [
              0.1111111111111111,
              "#46039f"
             ],
             [
              0.2222222222222222,
              "#7201a8"
             ],
             [
              0.3333333333333333,
              "#9c179e"
             ],
             [
              0.4444444444444444,
              "#bd3786"
             ],
             [
              0.5555555555555556,
              "#d8576b"
             ],
             [
              0.6666666666666666,
              "#ed7953"
             ],
             [
              0.7777777777777778,
              "#fb9f3a"
             ],
             [
              0.8888888888888888,
              "#fdca26"
             ],
             [
              1.0,
              "#f0f921"
             ]
            ]
           }
          ],
          "mesh3d": [
           {
            "type": "mesh3d",
            "colorbar": {
             "outlinewidth": 0,
             "ticks": ""
            }
           }
          ],
          "scatter": [
           {
            "fillpattern": {
             "fillmode": "overlay",
             "size": 10,
             "solidity": 0.2
            },
            "type": "scatter"
           }
          ],
          "parcoords": [
           {
            "type": "parcoords",
            "line": {
             "colorbar": {
              "outlinewidth": 0,
              "ticks": ""
             }
            }
           }
          ],
          "scatterpolargl": [
           {
            "type": "scatterpolargl",
            "marker": {
             "colorbar": {
              "outlinewidth": 0,
              "ticks": ""
             }
            }
           }
          ],
          "bar": [
           {
            "error_x": {
             "color": "#2a3f5f"
            },
            "error_y": {
             "color": "#2a3f5f"
            },
            "marker": {
             "line": {
              "color": "#E5ECF6",
              "width": 0.5
             },
             "pattern": {
              "fillmode": "overlay",
              "size": 10,
              "solidity": 0.2
             }
            },
            "type": "bar"
           }
          ],
          "scattergeo": [
           {
            "type": "scattergeo",
            "marker": {
             "colorbar": {
              "outlinewidth": 0,
              "ticks": ""
             }
            }
           }
          ],
          "scatterpolar": [
           {
            "type": "scatterpolar",
            "marker": {
             "colorbar": {
              "outlinewidth": 0,
              "ticks": ""
             }
            }
           }
          ],
          "histogram": [
           {
            "marker": {
             "pattern": {
              "fillmode": "overlay",
              "size": 10,
              "solidity": 0.2
             }
            },
            "type": "histogram"
           }
          ],
          "scattergl": [
           {
            "type": "scattergl",
            "marker": {
             "colorbar": {
              "outlinewidth": 0,
              "ticks": ""
             }
            }
           }
          ],
          "scatter3d": [
           {
            "type": "scatter3d",
            "line": {
             "colorbar": {
              "outlinewidth": 0,
              "ticks": ""
             }
            },
            "marker": {
             "colorbar": {
              "outlinewidth": 0,
              "ticks": ""
             }
            }
           }
          ],
          "scattermapbox": [
           {
            "type": "scattermapbox",
            "marker": {
             "colorbar": {
              "outlinewidth": 0,
              "ticks": ""
             }
            }
           }
          ],
          "scatterternary": [
           {
            "type": "scatterternary",
            "marker": {
             "colorbar": {
              "outlinewidth": 0,
              "ticks": ""
             }
            }
           }
          ],
          "scattercarpet": [
           {
            "type": "scattercarpet",
            "marker": {
             "colorbar": {
              "outlinewidth": 0,
              "ticks": ""
             }
            }
           }
          ],
          "carpet": [
           {
            "aaxis": {
             "endlinecolor": "#2a3f5f",
             "gridcolor": "white",
             "linecolor": "white",
             "minorgridcolor": "white",
             "startlinecolor": "#2a3f5f"
            },
            "baxis": {
             "endlinecolor": "#2a3f5f",
             "gridcolor": "white",
             "linecolor": "white",
             "minorgridcolor": "white",
             "startlinecolor": "#2a3f5f"
            },
            "type": "carpet"
           }
          ],
          "table": [
           {
            "cells": {
             "fill": {
              "color": "#EBF0F8"
             },
             "line": {
              "color": "white"
             }
            },
            "header": {
             "fill": {
              "color": "#C8D4E3"
             },
             "line": {
              "color": "white"
             }
            },
            "type": "table"
           }
          ],
          "barpolar": [
           {
            "marker": {
             "line": {
              "color": "#E5ECF6",
              "width": 0.5
             },
             "pattern": {
              "fillmode": "overlay",
              "size": 10,
              "solidity": 0.2
             }
            },
            "type": "barpolar"
           }
          ],
          "pie": [
           {
            "automargin": true,
            "type": "pie"
           }
          ]
         },
         "layout": {
          "autotypenumbers": "strict",
          "colorway": [
           "#636efa",
           "#EF553B",
           "#00cc96",
           "#ab63fa",
           "#FFA15A",
           "#19d3f3",
           "#FF6692",
           "#B6E880",
           "#FF97FF",
           "#FECB52"
          ],
          "font": {
           "color": "#2a3f5f"
          },
          "hovermode": "closest",
          "hoverlabel": {
           "align": "left"
          },
          "paper_bgcolor": "white",
          "plot_bgcolor": "#E5ECF6",
          "polar": {
           "bgcolor": "#E5ECF6",
           "angularaxis": {
            "gridcolor": "white",
            "linecolor": "white",
            "ticks": ""
           },
           "radialaxis": {
            "gridcolor": "white",
            "linecolor": "white",
            "ticks": ""
           }
          },
          "ternary": {
           "bgcolor": "#E5ECF6",
           "aaxis": {
            "gridcolor": "white",
            "linecolor": "white",
            "ticks": ""
           },
           "baxis": {
            "gridcolor": "white",
            "linecolor": "white",
            "ticks": ""
           },
           "caxis": {
            "gridcolor": "white",
            "linecolor": "white",
            "ticks": ""
           }
          },
          "coloraxis": {
           "colorbar": {
            "outlinewidth": 0,
            "ticks": ""
           }
          },
          "colorscale": {
           "sequential": [
            [
             0.0,
             "#0d0887"
            ],
            [
             0.1111111111111111,
             "#46039f"
            ],
            [
             0.2222222222222222,
             "#7201a8"
            ],
            [
             0.3333333333333333,
             "#9c179e"
            ],
            [
             0.4444444444444444,
             "#bd3786"
            ],
            [
             0.5555555555555556,
             "#d8576b"
            ],
            [
             0.6666666666666666,
             "#ed7953"
            ],
            [
             0.7777777777777778,
             "#fb9f3a"
            ],
            [
             0.8888888888888888,
             "#fdca26"
            ],
            [
             1.0,
             "#f0f921"
            ]
           ],
           "sequentialminus": [
            [
             0.0,
             "#0d0887"
            ],
            [
             0.1111111111111111,
             "#46039f"
            ],
            [
             0.2222222222222222,
             "#7201a8"
            ],
            [
             0.3333333333333333,
             "#9c179e"
            ],
            [
             0.4444444444444444,
             "#bd3786"
            ],
            [
             0.5555555555555556,
             "#d8576b"
            ],
            [
             0.6666666666666666,
             "#ed7953"
            ],
            [
             0.7777777777777778,
             "#fb9f3a"
            ],
            [
             0.8888888888888888,
             "#fdca26"
            ],
            [
             1.0,
             "#f0f921"
            ]
           ],
           "diverging": [
            [
             0,
             "#8e0152"
            ],
            [
             0.1,
             "#c51b7d"
            ],
            [
             0.2,
             "#de77ae"
            ],
            [
             0.3,
             "#f1b6da"
            ],
            [
             0.4,
             "#fde0ef"
            ],
            [
             0.5,
             "#f7f7f7"
            ],
            [
             0.6,
             "#e6f5d0"
            ],
            [
             0.7,
             "#b8e186"
            ],
            [
             0.8,
             "#7fbc41"
            ],
            [
             0.9,
             "#4d9221"
            ],
            [
             1,
             "#276419"
            ]
           ]
          },
          "xaxis": {
           "gridcolor": "white",
           "linecolor": "white",
           "ticks": "",
           "title": {
            "standoff": 15
           },
           "zerolinecolor": "white",
           "automargin": true,
           "zerolinewidth": 2
          },
          "yaxis": {
           "gridcolor": "white",
           "linecolor": "white",
           "ticks": "",
           "title": {
            "standoff": 15
           },
           "zerolinecolor": "white",
           "automargin": true,
           "zerolinewidth": 2
          },
          "scene": {
           "xaxis": {
            "backgroundcolor": "#E5ECF6",
            "gridcolor": "white",
            "linecolor": "white",
            "showbackground": true,
            "ticks": "",
            "zerolinecolor": "white",
            "gridwidth": 2
           },
           "yaxis": {
            "backgroundcolor": "#E5ECF6",
            "gridcolor": "white",
            "linecolor": "white",
            "showbackground": true,
            "ticks": "",
            "zerolinecolor": "white",
            "gridwidth": 2
           },
           "zaxis": {
            "backgroundcolor": "#E5ECF6",
            "gridcolor": "white",
            "linecolor": "white",
            "showbackground": true,
            "ticks": "",
            "zerolinecolor": "white",
            "gridwidth": 2
           }
          },
          "shapedefaults": {
           "line": {
            "color": "#2a3f5f"
           }
          },
          "annotationdefaults": {
           "arrowcolor": "#2a3f5f",
           "arrowhead": 0,
           "arrowwidth": 1
          },
          "geo": {
           "bgcolor": "white",
           "landcolor": "#E5ECF6",
           "subunitcolor": "white",
           "showland": true,
           "showlakes": true,
           "lakecolor": "white"
          },
          "title": {
           "x": 0.05
          },
          "mapbox": {
           "style": "light"
          }
         }
        },
        "xaxis": {
         "anchor": "y",
         "domain": [
          0.0,
          1.0
         ],
         "title": {
          "text": "CATEGORY"
         }
        },
        "yaxis": {
         "anchor": "x",
         "domain": [
          0.0,
          1.0
         ],
         "title": {
          "text": "TOTAL_APP_CATEGORIA"
         }
        },
        "legend": {
         "tracegroupgap": 0
        },
        "title": {
         "text": "Total de aplicativos por categoria"
        },
        "barmode": "relative"
       },
       "config": {
        "plotlyServerURL": "https://plot.ly"
       }
      },
      "text/html": "<div>                            <div id=\"f7186d8e-3d9d-4026-a44e-1f9327c35d80\" class=\"plotly-graph-div\" style=\"height:525px; width:100%;\"></div>            <script type=\"text/javascript\">                require([\"plotly\"], function(Plotly) {                    window.PLOTLYENV=window.PLOTLYENV || {};                                    if (document.getElementById(\"f7186d8e-3d9d-4026-a44e-1f9327c35d80\")) {                    Plotly.newPlot(                        \"f7186d8e-3d9d-4026-a44e-1f9327c35d80\",                        [{\"alignmentgroup\":\"True\",\"hovertemplate\":\"CATEGORY=%{x}<br>TOTAL_APP_CATEGORIA=%{y}<extra></extra>\",\"legendgroup\":\"\",\"marker\":{\"color\":\"#636efa\",\"pattern\":{\"shape\":\"\"}},\"name\":\"\",\"offsetgroup\":\"\",\"orientation\":\"v\",\"showlegend\":false,\"textposition\":\"auto\",\"x\":[\"Education\",\"Music & Audio\",\"Tools\",\"Business\",\"Entertainment\",\"Lifestyle\",\"Books & Reference\",\"Personalization\",\"Health & Fitness\",\"Productivity\",\"Shopping\",\"Food & Drink\",\"Travel & Local\",\"Finance\",\"Arcade\",\"Puzzle\",\"Casual\",\"Communication\",\"Sports\",\"Social\",\"News & Magazines\",\"Photography\",\"Medical\",\"Action\",\"Maps & Navigation\",\"Simulation\",\"Adventure\",\"Educational\",\"Art & Design\",\"Auto & Vehicles\",\"House & Home\",\"Video Players & Editors\",\"Events\",\"Trivia\",\"Beauty\",\"Board\",\"Racing\",\"Role Playing\",\"Word\",\"Strategy\",\"Card\",\"Weather\",\"Dating\",\"Libraries & Demo\",\"Casino\",\"Music\",\"Parenting\",\"Comics\"],\"xaxis\":\"x\",\"y\":[241090,154906,143988,143771,138276,118331,116728,89210,83510,79698,75256,73927,67288,65466,53792,51168,50813,48167,47483,44734,42807,35552,32065,27555,26722,23282,23203,21308,18539,18280,14369,14015,12841,11795,11772,10588,10362,10034,8630,8526,8179,7246,6524,5198,5076,4202,3810,2862],\"yaxis\":\"y\",\"type\":\"bar\"}],                        {\"template\":{\"data\":{\"histogram2dcontour\":[{\"type\":\"histogram2dcontour\",\"colorbar\":{\"outlinewidth\":0,\"ticks\":\"\"},\"colorscale\":[[0.0,\"#0d0887\"],[0.1111111111111111,\"#46039f\"],[0.2222222222222222,\"#7201a8\"],[0.3333333333333333,\"#9c179e\"],[0.4444444444444444,\"#bd3786\"],[0.5555555555555556,\"#d8576b\"],[0.6666666666666666,\"#ed7953\"],[0.7777777777777778,\"#fb9f3a\"],[0.8888888888888888,\"#fdca26\"],[1.0,\"#f0f921\"]]}],\"choropleth\":[{\"type\":\"choropleth\",\"colorbar\":{\"outlinewidth\":0,\"ticks\":\"\"}}],\"histogram2d\":[{\"type\":\"histogram2d\",\"colorbar\":{\"outlinewidth\":0,\"ticks\":\"\"},\"colorscale\":[[0.0,\"#0d0887\"],[0.1111111111111111,\"#46039f\"],[0.2222222222222222,\"#7201a8\"],[0.3333333333333333,\"#9c179e\"],[0.4444444444444444,\"#bd3786\"],[0.5555555555555556,\"#d8576b\"],[0.6666666666666666,\"#ed7953\"],[0.7777777777777778,\"#fb9f3a\"],[0.8888888888888888,\"#fdca26\"],[1.0,\"#f0f921\"]]}],\"heatmap\":[{\"type\":\"heatmap\",\"colorbar\":{\"outlinewidth\":0,\"ticks\":\"\"},\"colorscale\":[[0.0,\"#0d0887\"],[0.1111111111111111,\"#46039f\"],[0.2222222222222222,\"#7201a8\"],[0.3333333333333333,\"#9c179e\"],[0.4444444444444444,\"#bd3786\"],[0.5555555555555556,\"#d8576b\"],[0.6666666666666666,\"#ed7953\"],[0.7777777777777778,\"#fb9f3a\"],[0.8888888888888888,\"#fdca26\"],[1.0,\"#f0f921\"]]}],\"heatmapgl\":[{\"type\":\"heatmapgl\",\"colorbar\":{\"outlinewidth\":0,\"ticks\":\"\"},\"colorscale\":[[0.0,\"#0d0887\"],[0.1111111111111111,\"#46039f\"],[0.2222222222222222,\"#7201a8\"],[0.3333333333333333,\"#9c179e\"],[0.4444444444444444,\"#bd3786\"],[0.5555555555555556,\"#d8576b\"],[0.6666666666666666,\"#ed7953\"],[0.7777777777777778,\"#fb9f3a\"],[0.8888888888888888,\"#fdca26\"],[1.0,\"#f0f921\"]]}],\"contourcarpet\":[{\"type\":\"contourcarpet\",\"colorbar\":{\"outlinewidth\":0,\"ticks\":\"\"}}],\"contour\":[{\"type\":\"contour\",\"colorbar\":{\"outlinewidth\":0,\"ticks\":\"\"},\"colorscale\":[[0.0,\"#0d0887\"],[0.1111111111111111,\"#46039f\"],[0.2222222222222222,\"#7201a8\"],[0.3333333333333333,\"#9c179e\"],[0.4444444444444444,\"#bd3786\"],[0.5555555555555556,\"#d8576b\"],[0.6666666666666666,\"#ed7953\"],[0.7777777777777778,\"#fb9f3a\"],[0.8888888888888888,\"#fdca26\"],[1.0,\"#f0f921\"]]}],\"surface\":[{\"type\":\"surface\",\"colorbar\":{\"outlinewidth\":0,\"ticks\":\"\"},\"colorscale\":[[0.0,\"#0d0887\"],[0.1111111111111111,\"#46039f\"],[0.2222222222222222,\"#7201a8\"],[0.3333333333333333,\"#9c179e\"],[0.4444444444444444,\"#bd3786\"],[0.5555555555555556,\"#d8576b\"],[0.6666666666666666,\"#ed7953\"],[0.7777777777777778,\"#fb9f3a\"],[0.8888888888888888,\"#fdca26\"],[1.0,\"#f0f921\"]]}],\"mesh3d\":[{\"type\":\"mesh3d\",\"colorbar\":{\"outlinewidth\":0,\"ticks\":\"\"}}],\"scatter\":[{\"fillpattern\":{\"fillmode\":\"overlay\",\"size\":10,\"solidity\":0.2},\"type\":\"scatter\"}],\"parcoords\":[{\"type\":\"parcoords\",\"line\":{\"colorbar\":{\"outlinewidth\":0,\"ticks\":\"\"}}}],\"scatterpolargl\":[{\"type\":\"scatterpolargl\",\"marker\":{\"colorbar\":{\"outlinewidth\":0,\"ticks\":\"\"}}}],\"bar\":[{\"error_x\":{\"color\":\"#2a3f5f\"},\"error_y\":{\"color\":\"#2a3f5f\"},\"marker\":{\"line\":{\"color\":\"#E5ECF6\",\"width\":0.5},\"pattern\":{\"fillmode\":\"overlay\",\"size\":10,\"solidity\":0.2}},\"type\":\"bar\"}],\"scattergeo\":[{\"type\":\"scattergeo\",\"marker\":{\"colorbar\":{\"outlinewidth\":0,\"ticks\":\"\"}}}],\"scatterpolar\":[{\"type\":\"scatterpolar\",\"marker\":{\"colorbar\":{\"outlinewidth\":0,\"ticks\":\"\"}}}],\"histogram\":[{\"marker\":{\"pattern\":{\"fillmode\":\"overlay\",\"size\":10,\"solidity\":0.2}},\"type\":\"histogram\"}],\"scattergl\":[{\"type\":\"scattergl\",\"marker\":{\"colorbar\":{\"outlinewidth\":0,\"ticks\":\"\"}}}],\"scatter3d\":[{\"type\":\"scatter3d\",\"line\":{\"colorbar\":{\"outlinewidth\":0,\"ticks\":\"\"}},\"marker\":{\"colorbar\":{\"outlinewidth\":0,\"ticks\":\"\"}}}],\"scattermapbox\":[{\"type\":\"scattermapbox\",\"marker\":{\"colorbar\":{\"outlinewidth\":0,\"ticks\":\"\"}}}],\"scatterternary\":[{\"type\":\"scatterternary\",\"marker\":{\"colorbar\":{\"outlinewidth\":0,\"ticks\":\"\"}}}],\"scattercarpet\":[{\"type\":\"scattercarpet\",\"marker\":{\"colorbar\":{\"outlinewidth\":0,\"ticks\":\"\"}}}],\"carpet\":[{\"aaxis\":{\"endlinecolor\":\"#2a3f5f\",\"gridcolor\":\"white\",\"linecolor\":\"white\",\"minorgridcolor\":\"white\",\"startlinecolor\":\"#2a3f5f\"},\"baxis\":{\"endlinecolor\":\"#2a3f5f\",\"gridcolor\":\"white\",\"linecolor\":\"white\",\"minorgridcolor\":\"white\",\"startlinecolor\":\"#2a3f5f\"},\"type\":\"carpet\"}],\"table\":[{\"cells\":{\"fill\":{\"color\":\"#EBF0F8\"},\"line\":{\"color\":\"white\"}},\"header\":{\"fill\":{\"color\":\"#C8D4E3\"},\"line\":{\"color\":\"white\"}},\"type\":\"table\"}],\"barpolar\":[{\"marker\":{\"line\":{\"color\":\"#E5ECF6\",\"width\":0.5},\"pattern\":{\"fillmode\":\"overlay\",\"size\":10,\"solidity\":0.2}},\"type\":\"barpolar\"}],\"pie\":[{\"automargin\":true,\"type\":\"pie\"}]},\"layout\":{\"autotypenumbers\":\"strict\",\"colorway\":[\"#636efa\",\"#EF553B\",\"#00cc96\",\"#ab63fa\",\"#FFA15A\",\"#19d3f3\",\"#FF6692\",\"#B6E880\",\"#FF97FF\",\"#FECB52\"],\"font\":{\"color\":\"#2a3f5f\"},\"hovermode\":\"closest\",\"hoverlabel\":{\"align\":\"left\"},\"paper_bgcolor\":\"white\",\"plot_bgcolor\":\"#E5ECF6\",\"polar\":{\"bgcolor\":\"#E5ECF6\",\"angularaxis\":{\"gridcolor\":\"white\",\"linecolor\":\"white\",\"ticks\":\"\"},\"radialaxis\":{\"gridcolor\":\"white\",\"linecolor\":\"white\",\"ticks\":\"\"}},\"ternary\":{\"bgcolor\":\"#E5ECF6\",\"aaxis\":{\"gridcolor\":\"white\",\"linecolor\":\"white\",\"ticks\":\"\"},\"baxis\":{\"gridcolor\":\"white\",\"linecolor\":\"white\",\"ticks\":\"\"},\"caxis\":{\"gridcolor\":\"white\",\"linecolor\":\"white\",\"ticks\":\"\"}},\"coloraxis\":{\"colorbar\":{\"outlinewidth\":0,\"ticks\":\"\"}},\"colorscale\":{\"sequential\":[[0.0,\"#0d0887\"],[0.1111111111111111,\"#46039f\"],[0.2222222222222222,\"#7201a8\"],[0.3333333333333333,\"#9c179e\"],[0.4444444444444444,\"#bd3786\"],[0.5555555555555556,\"#d8576b\"],[0.6666666666666666,\"#ed7953\"],[0.7777777777777778,\"#fb9f3a\"],[0.8888888888888888,\"#fdca26\"],[1.0,\"#f0f921\"]],\"sequentialminus\":[[0.0,\"#0d0887\"],[0.1111111111111111,\"#46039f\"],[0.2222222222222222,\"#7201a8\"],[0.3333333333333333,\"#9c179e\"],[0.4444444444444444,\"#bd3786\"],[0.5555555555555556,\"#d8576b\"],[0.6666666666666666,\"#ed7953\"],[0.7777777777777778,\"#fb9f3a\"],[0.8888888888888888,\"#fdca26\"],[1.0,\"#f0f921\"]],\"diverging\":[[0,\"#8e0152\"],[0.1,\"#c51b7d\"],[0.2,\"#de77ae\"],[0.3,\"#f1b6da\"],[0.4,\"#fde0ef\"],[0.5,\"#f7f7f7\"],[0.6,\"#e6f5d0\"],[0.7,\"#b8e186\"],[0.8,\"#7fbc41\"],[0.9,\"#4d9221\"],[1,\"#276419\"]]},\"xaxis\":{\"gridcolor\":\"white\",\"linecolor\":\"white\",\"ticks\":\"\",\"title\":{\"standoff\":15},\"zerolinecolor\":\"white\",\"automargin\":true,\"zerolinewidth\":2},\"yaxis\":{\"gridcolor\":\"white\",\"linecolor\":\"white\",\"ticks\":\"\",\"title\":{\"standoff\":15},\"zerolinecolor\":\"white\",\"automargin\":true,\"zerolinewidth\":2},\"scene\":{\"xaxis\":{\"backgroundcolor\":\"#E5ECF6\",\"gridcolor\":\"white\",\"linecolor\":\"white\",\"showbackground\":true,\"ticks\":\"\",\"zerolinecolor\":\"white\",\"gridwidth\":2},\"yaxis\":{\"backgroundcolor\":\"#E5ECF6\",\"gridcolor\":\"white\",\"linecolor\":\"white\",\"showbackground\":true,\"ticks\":\"\",\"zerolinecolor\":\"white\",\"gridwidth\":2},\"zaxis\":{\"backgroundcolor\":\"#E5ECF6\",\"gridcolor\":\"white\",\"linecolor\":\"white\",\"showbackground\":true,\"ticks\":\"\",\"zerolinecolor\":\"white\",\"gridwidth\":2}},\"shapedefaults\":{\"line\":{\"color\":\"#2a3f5f\"}},\"annotationdefaults\":{\"arrowcolor\":\"#2a3f5f\",\"arrowhead\":0,\"arrowwidth\":1},\"geo\":{\"bgcolor\":\"white\",\"landcolor\":\"#E5ECF6\",\"subunitcolor\":\"white\",\"showland\":true,\"showlakes\":true,\"lakecolor\":\"white\"},\"title\":{\"x\":0.05},\"mapbox\":{\"style\":\"light\"}}},\"xaxis\":{\"anchor\":\"y\",\"domain\":[0.0,1.0],\"title\":{\"text\":\"CATEGORY\"}},\"yaxis\":{\"anchor\":\"x\",\"domain\":[0.0,1.0],\"title\":{\"text\":\"TOTAL_APP_CATEGORIA\"}},\"legend\":{\"tracegroupgap\":0},\"title\":{\"text\":\"Total de aplicativos por categoria\"},\"barmode\":\"relative\"},                        {\"responsive\": true}                    ).then(function(){\n                            \nvar gd = document.getElementById('f7186d8e-3d9d-4026-a44e-1f9327c35d80');\nvar x = new MutationObserver(function (mutations, observer) {{\n        var display = window.getComputedStyle(gd).display;\n        if (!display || display === 'none') {{\n            console.log([gd, 'removed!']);\n            Plotly.purge(gd);\n            observer.disconnect();\n        }}\n}});\n\n// Listen for the removal of the full notebook cells\nvar notebookContainer = gd.closest('#notebook-container');\nif (notebookContainer) {{\n    x.observe(notebookContainer, {childList: true});\n}}\n\n// Listen for the clearing of the current output cell\nvar outputEl = gd.closest('.output');\nif (outputEl) {{\n    x.observe(outputEl, {childList: true});\n}}\n\n                        })                };                });            </script>        </div>"
     },
     "metadata": {},
     "output_type": "display_data"
    }
   ],
   "source": [
    "fig = px.bar(data_frame=dados_categoria_agrupado, x='CATEGORY', y='TOTAL_APP_CATEGORIA', title='Total de aplicativos por categoria' )\n",
    "fig.show()"
   ],
   "metadata": {
    "collapsed": false
   }
  },
  {
   "cell_type": "code",
   "execution_count": 105,
   "outputs": [
    {
     "data": {
      "text/plain": "   MINIMUM_ANDROID  TOTAL_VERSAO_ANDROID\n15             4.1                604534\n20             5.0                397009\n18             4.4                390334\n14           4.0.3                180524\n13             4.0                153527\n16             4.2                115984\n22             6.0                 89933\n8              2.3                 65630\n21             5.1                 59290\n26          Varies                 46214\n17             4.3                 41363\n23             7.0                 34446\n7              2.2                 23770\n9            2.3.3                 21567\n10             3.0                 17135\n6              2.1                 16719\n25             8.0                 13831\n19            4.4W                 12527\n3              1.6                  8550\n27             nan                  6530\n24             7.1                  3044\n4              2.0                  2778\n12             3.2                  2684\n2              1.5                  2100\n11             3.1                  2003\n5            2.0.1                   443\n0              1.0                   309\n1              1.1                   166",
      "text/html": "<div>\n<style scoped>\n    .dataframe tbody tr th:only-of-type {\n        vertical-align: middle;\n    }\n\n    .dataframe tbody tr th {\n        vertical-align: top;\n    }\n\n    .dataframe thead th {\n        text-align: right;\n    }\n</style>\n<table border=\"1\" class=\"dataframe\">\n  <thead>\n    <tr style=\"text-align: right;\">\n      <th></th>\n      <th>MINIMUM_ANDROID</th>\n      <th>TOTAL_VERSAO_ANDROID</th>\n    </tr>\n  </thead>\n  <tbody>\n    <tr>\n      <th>15</th>\n      <td>4.1</td>\n      <td>604534</td>\n    </tr>\n    <tr>\n      <th>20</th>\n      <td>5.0</td>\n      <td>397009</td>\n    </tr>\n    <tr>\n      <th>18</th>\n      <td>4.4</td>\n      <td>390334</td>\n    </tr>\n    <tr>\n      <th>14</th>\n      <td>4.0.3</td>\n      <td>180524</td>\n    </tr>\n    <tr>\n      <th>13</th>\n      <td>4.0</td>\n      <td>153527</td>\n    </tr>\n    <tr>\n      <th>16</th>\n      <td>4.2</td>\n      <td>115984</td>\n    </tr>\n    <tr>\n      <th>22</th>\n      <td>6.0</td>\n      <td>89933</td>\n    </tr>\n    <tr>\n      <th>8</th>\n      <td>2.3</td>\n      <td>65630</td>\n    </tr>\n    <tr>\n      <th>21</th>\n      <td>5.1</td>\n      <td>59290</td>\n    </tr>\n    <tr>\n      <th>26</th>\n      <td>Varies</td>\n      <td>46214</td>\n    </tr>\n    <tr>\n      <th>17</th>\n      <td>4.3</td>\n      <td>41363</td>\n    </tr>\n    <tr>\n      <th>23</th>\n      <td>7.0</td>\n      <td>34446</td>\n    </tr>\n    <tr>\n      <th>7</th>\n      <td>2.2</td>\n      <td>23770</td>\n    </tr>\n    <tr>\n      <th>9</th>\n      <td>2.3.3</td>\n      <td>21567</td>\n    </tr>\n    <tr>\n      <th>10</th>\n      <td>3.0</td>\n      <td>17135</td>\n    </tr>\n    <tr>\n      <th>6</th>\n      <td>2.1</td>\n      <td>16719</td>\n    </tr>\n    <tr>\n      <th>25</th>\n      <td>8.0</td>\n      <td>13831</td>\n    </tr>\n    <tr>\n      <th>19</th>\n      <td>4.4W</td>\n      <td>12527</td>\n    </tr>\n    <tr>\n      <th>3</th>\n      <td>1.6</td>\n      <td>8550</td>\n    </tr>\n    <tr>\n      <th>27</th>\n      <td>nan</td>\n      <td>6530</td>\n    </tr>\n    <tr>\n      <th>24</th>\n      <td>7.1</td>\n      <td>3044</td>\n    </tr>\n    <tr>\n      <th>4</th>\n      <td>2.0</td>\n      <td>2778</td>\n    </tr>\n    <tr>\n      <th>12</th>\n      <td>3.2</td>\n      <td>2684</td>\n    </tr>\n    <tr>\n      <th>2</th>\n      <td>1.5</td>\n      <td>2100</td>\n    </tr>\n    <tr>\n      <th>11</th>\n      <td>3.1</td>\n      <td>2003</td>\n    </tr>\n    <tr>\n      <th>5</th>\n      <td>2.0.1</td>\n      <td>443</td>\n    </tr>\n    <tr>\n      <th>0</th>\n      <td>1.0</td>\n      <td>309</td>\n    </tr>\n    <tr>\n      <th>1</th>\n      <td>1.1</td>\n      <td>166</td>\n    </tr>\n  </tbody>\n</table>\n</div>"
     },
     "execution_count": 105,
     "metadata": {},
     "output_type": "execute_result"
    }
   ],
   "source": [
    "df_total_versao = dataframe_agrupado(nome_coluna='MINIMUM_ANDROID', nome_agrupado='TOTAL_VERSAO_ANDROID')\n",
    "df_total_versao"
   ],
   "metadata": {
    "collapsed": false
   }
  },
  {
   "cell_type": "markdown",
   "source": [],
   "metadata": {
    "collapsed": false
   }
  },
  {
   "cell_type": "markdown",
   "source": [],
   "metadata": {
    "collapsed": false
   }
  },
  {
   "cell_type": "code",
   "execution_count": 103,
   "outputs": [
    {
     "data": {
      "text/plain": "Index(['APP_NAME', 'APP_ID', 'CATEGORY', 'RATING', 'RATING_COUNT', 'INSTALLS',\n       'MINIMUM_INSTALLS', 'MAXIMUM_INSTALLS', 'FREE', 'PRICE', 'CURRENCY',\n       'SIZE', 'MINIMUM_ANDROID', 'DEVELOPER_ID', 'DEVELOPER_WEBSITE',\n       'DEVELOPER_EMAIL', 'RELEASED', 'LAST_UPDATED', 'CONTENT_RATING',\n       'PRIVACY_POLICY', 'AD_SUPPORTED', 'IN_APP_PURCHASES', 'EDITORS_CHOICE',\n       'SCRAPED_TIME'],\n      dtype='object')"
     },
     "execution_count": 103,
     "metadata": {},
     "output_type": "execute_result"
    }
   ],
   "source": [
    "dados_completo.columns"
   ],
   "metadata": {
    "collapsed": false
   }
  }
 ],
 "metadata": {
  "kernelspec": {
   "display_name": "Python 3",
   "language": "python",
   "name": "python3"
  },
  "language_info": {
   "codemirror_mode": {
    "name": "ipython",
    "version": 2
   },
   "file_extension": ".py",
   "mimetype": "text/x-python",
   "name": "python",
   "nbconvert_exporter": "python",
   "pygments_lexer": "ipython2",
   "version": "2.7.6"
  }
 },
 "nbformat": 4,
 "nbformat_minor": 0
}
